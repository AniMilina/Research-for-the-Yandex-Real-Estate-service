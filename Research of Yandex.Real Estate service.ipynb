{
 "cells": [
  {
   "cell_type": "markdown",
   "metadata": {},
   "source": [
    "# Исследование объявлений о продаже квартир\n",
    "\n",
    "В нашем распоряжении данные сервиса Яндекс.Недвижимость — архив объявлений о продаже квартир в Санкт-Петербурге и соседних населённых пунктов за несколько лет. Нужно научиться определять рыночную стоимость объектов недвижимости. Ваша задача — установить параметры. Это позволит построить автоматизированную систему: она отследит аномалии и мошенническую деятельность. \n",
    "\n",
    "По каждой квартире на продажу доступны два вида данных. Первые вписаны пользователем, вторые — получены автоматически на основе картографических данных. Например, расстояние до центра, аэропорта, ближайшего парка и водоёма. "
   ]
  },
  {
   "cell_type": "markdown",
   "metadata": {},
   "source": [
    "# Ознакомление с полученными данными."
   ]
  },
  {
   "cell_type": "code",
   "execution_count": 33,
   "metadata": {},
   "outputs": [],
   "source": [
    "from sklearn.preprocessing import LabelEncoder\n",
    "import pandas as pd"
   ]
  },
  {
   "cell_type": "code",
   "execution_count": 34,
   "metadata": {},
   "outputs": [
    {
     "data": {
      "text/html": [
       "<div>\n",
       "<style scoped>\n",
       "    .dataframe tbody tr th:only-of-type {\n",
       "        vertical-align: middle;\n",
       "    }\n",
       "\n",
       "    .dataframe tbody tr th {\n",
       "        vertical-align: top;\n",
       "    }\n",
       "\n",
       "    .dataframe thead th {\n",
       "        text-align: right;\n",
       "    }\n",
       "</style>\n",
       "<table border=\"1\" class=\"dataframe\">\n",
       "  <thead>\n",
       "    <tr style=\"text-align: right;\">\n",
       "      <th></th>\n",
       "      <th>total_images</th>\n",
       "      <th>last_price</th>\n",
       "      <th>total_area</th>\n",
       "      <th>first_day_exposition</th>\n",
       "      <th>rooms</th>\n",
       "      <th>ceiling_height</th>\n",
       "      <th>floors_total</th>\n",
       "      <th>living_area</th>\n",
       "      <th>floor</th>\n",
       "      <th>is_apartment</th>\n",
       "      <th>...</th>\n",
       "      <th>kitchen_area</th>\n",
       "      <th>balcony</th>\n",
       "      <th>locality_name</th>\n",
       "      <th>airports_nearest</th>\n",
       "      <th>cityCenters_nearest</th>\n",
       "      <th>parks_around3000</th>\n",
       "      <th>parks_nearest</th>\n",
       "      <th>ponds_around3000</th>\n",
       "      <th>ponds_nearest</th>\n",
       "      <th>days_exposition</th>\n",
       "    </tr>\n",
       "  </thead>\n",
       "  <tbody>\n",
       "    <tr>\n",
       "      <th>0</th>\n",
       "      <td>20</td>\n",
       "      <td>13000000.0</td>\n",
       "      <td>108.00</td>\n",
       "      <td>2019-03-07T00:00:00</td>\n",
       "      <td>3</td>\n",
       "      <td>2.70</td>\n",
       "      <td>16.0</td>\n",
       "      <td>51.00</td>\n",
       "      <td>8</td>\n",
       "      <td>NaN</td>\n",
       "      <td>...</td>\n",
       "      <td>25.00</td>\n",
       "      <td>NaN</td>\n",
       "      <td>Санкт-Петербург</td>\n",
       "      <td>18863.0</td>\n",
       "      <td>16028.0</td>\n",
       "      <td>1.0</td>\n",
       "      <td>482.0</td>\n",
       "      <td>2.0</td>\n",
       "      <td>755.0</td>\n",
       "      <td>NaN</td>\n",
       "    </tr>\n",
       "    <tr>\n",
       "      <th>1</th>\n",
       "      <td>7</td>\n",
       "      <td>3350000.0</td>\n",
       "      <td>40.40</td>\n",
       "      <td>2018-12-04T00:00:00</td>\n",
       "      <td>1</td>\n",
       "      <td>NaN</td>\n",
       "      <td>11.0</td>\n",
       "      <td>18.60</td>\n",
       "      <td>1</td>\n",
       "      <td>NaN</td>\n",
       "      <td>...</td>\n",
       "      <td>11.00</td>\n",
       "      <td>2.0</td>\n",
       "      <td>посёлок Шушары</td>\n",
       "      <td>12817.0</td>\n",
       "      <td>18603.0</td>\n",
       "      <td>0.0</td>\n",
       "      <td>NaN</td>\n",
       "      <td>0.0</td>\n",
       "      <td>NaN</td>\n",
       "      <td>81.0</td>\n",
       "    </tr>\n",
       "    <tr>\n",
       "      <th>2</th>\n",
       "      <td>10</td>\n",
       "      <td>5196000.0</td>\n",
       "      <td>56.00</td>\n",
       "      <td>2015-08-20T00:00:00</td>\n",
       "      <td>2</td>\n",
       "      <td>NaN</td>\n",
       "      <td>5.0</td>\n",
       "      <td>34.30</td>\n",
       "      <td>4</td>\n",
       "      <td>NaN</td>\n",
       "      <td>...</td>\n",
       "      <td>8.30</td>\n",
       "      <td>0.0</td>\n",
       "      <td>Санкт-Петербург</td>\n",
       "      <td>21741.0</td>\n",
       "      <td>13933.0</td>\n",
       "      <td>1.0</td>\n",
       "      <td>90.0</td>\n",
       "      <td>2.0</td>\n",
       "      <td>574.0</td>\n",
       "      <td>558.0</td>\n",
       "    </tr>\n",
       "    <tr>\n",
       "      <th>3</th>\n",
       "      <td>0</td>\n",
       "      <td>64900000.0</td>\n",
       "      <td>159.00</td>\n",
       "      <td>2015-07-24T00:00:00</td>\n",
       "      <td>3</td>\n",
       "      <td>NaN</td>\n",
       "      <td>14.0</td>\n",
       "      <td>NaN</td>\n",
       "      <td>9</td>\n",
       "      <td>NaN</td>\n",
       "      <td>...</td>\n",
       "      <td>NaN</td>\n",
       "      <td>0.0</td>\n",
       "      <td>Санкт-Петербург</td>\n",
       "      <td>28098.0</td>\n",
       "      <td>6800.0</td>\n",
       "      <td>2.0</td>\n",
       "      <td>84.0</td>\n",
       "      <td>3.0</td>\n",
       "      <td>234.0</td>\n",
       "      <td>424.0</td>\n",
       "    </tr>\n",
       "    <tr>\n",
       "      <th>4</th>\n",
       "      <td>2</td>\n",
       "      <td>10000000.0</td>\n",
       "      <td>100.00</td>\n",
       "      <td>2018-06-19T00:00:00</td>\n",
       "      <td>2</td>\n",
       "      <td>3.03</td>\n",
       "      <td>14.0</td>\n",
       "      <td>32.00</td>\n",
       "      <td>13</td>\n",
       "      <td>NaN</td>\n",
       "      <td>...</td>\n",
       "      <td>41.00</td>\n",
       "      <td>NaN</td>\n",
       "      <td>Санкт-Петербург</td>\n",
       "      <td>31856.0</td>\n",
       "      <td>8098.0</td>\n",
       "      <td>2.0</td>\n",
       "      <td>112.0</td>\n",
       "      <td>1.0</td>\n",
       "      <td>48.0</td>\n",
       "      <td>121.0</td>\n",
       "    </tr>\n",
       "    <tr>\n",
       "      <th>5</th>\n",
       "      <td>10</td>\n",
       "      <td>2890000.0</td>\n",
       "      <td>30.40</td>\n",
       "      <td>2018-09-10T00:00:00</td>\n",
       "      <td>1</td>\n",
       "      <td>NaN</td>\n",
       "      <td>12.0</td>\n",
       "      <td>14.40</td>\n",
       "      <td>5</td>\n",
       "      <td>NaN</td>\n",
       "      <td>...</td>\n",
       "      <td>9.10</td>\n",
       "      <td>NaN</td>\n",
       "      <td>городской посёлок Янино-1</td>\n",
       "      <td>NaN</td>\n",
       "      <td>NaN</td>\n",
       "      <td>NaN</td>\n",
       "      <td>NaN</td>\n",
       "      <td>NaN</td>\n",
       "      <td>NaN</td>\n",
       "      <td>55.0</td>\n",
       "    </tr>\n",
       "    <tr>\n",
       "      <th>6</th>\n",
       "      <td>6</td>\n",
       "      <td>3700000.0</td>\n",
       "      <td>37.30</td>\n",
       "      <td>2017-11-02T00:00:00</td>\n",
       "      <td>1</td>\n",
       "      <td>NaN</td>\n",
       "      <td>26.0</td>\n",
       "      <td>10.60</td>\n",
       "      <td>6</td>\n",
       "      <td>NaN</td>\n",
       "      <td>...</td>\n",
       "      <td>14.40</td>\n",
       "      <td>1.0</td>\n",
       "      <td>посёлок Парголово</td>\n",
       "      <td>52996.0</td>\n",
       "      <td>19143.0</td>\n",
       "      <td>0.0</td>\n",
       "      <td>NaN</td>\n",
       "      <td>0.0</td>\n",
       "      <td>NaN</td>\n",
       "      <td>155.0</td>\n",
       "    </tr>\n",
       "    <tr>\n",
       "      <th>7</th>\n",
       "      <td>5</td>\n",
       "      <td>7915000.0</td>\n",
       "      <td>71.60</td>\n",
       "      <td>2019-04-18T00:00:00</td>\n",
       "      <td>2</td>\n",
       "      <td>NaN</td>\n",
       "      <td>24.0</td>\n",
       "      <td>NaN</td>\n",
       "      <td>22</td>\n",
       "      <td>NaN</td>\n",
       "      <td>...</td>\n",
       "      <td>18.90</td>\n",
       "      <td>2.0</td>\n",
       "      <td>Санкт-Петербург</td>\n",
       "      <td>23982.0</td>\n",
       "      <td>11634.0</td>\n",
       "      <td>0.0</td>\n",
       "      <td>NaN</td>\n",
       "      <td>0.0</td>\n",
       "      <td>NaN</td>\n",
       "      <td>NaN</td>\n",
       "    </tr>\n",
       "    <tr>\n",
       "      <th>8</th>\n",
       "      <td>20</td>\n",
       "      <td>2900000.0</td>\n",
       "      <td>33.16</td>\n",
       "      <td>2018-05-23T00:00:00</td>\n",
       "      <td>1</td>\n",
       "      <td>NaN</td>\n",
       "      <td>27.0</td>\n",
       "      <td>15.43</td>\n",
       "      <td>26</td>\n",
       "      <td>NaN</td>\n",
       "      <td>...</td>\n",
       "      <td>8.81</td>\n",
       "      <td>NaN</td>\n",
       "      <td>посёлок Мурино</td>\n",
       "      <td>NaN</td>\n",
       "      <td>NaN</td>\n",
       "      <td>NaN</td>\n",
       "      <td>NaN</td>\n",
       "      <td>NaN</td>\n",
       "      <td>NaN</td>\n",
       "      <td>189.0</td>\n",
       "    </tr>\n",
       "    <tr>\n",
       "      <th>9</th>\n",
       "      <td>18</td>\n",
       "      <td>5400000.0</td>\n",
       "      <td>61.00</td>\n",
       "      <td>2017-02-26T00:00:00</td>\n",
       "      <td>3</td>\n",
       "      <td>2.50</td>\n",
       "      <td>9.0</td>\n",
       "      <td>43.60</td>\n",
       "      <td>7</td>\n",
       "      <td>NaN</td>\n",
       "      <td>...</td>\n",
       "      <td>6.50</td>\n",
       "      <td>2.0</td>\n",
       "      <td>Санкт-Петербург</td>\n",
       "      <td>50898.0</td>\n",
       "      <td>15008.0</td>\n",
       "      <td>0.0</td>\n",
       "      <td>NaN</td>\n",
       "      <td>0.0</td>\n",
       "      <td>NaN</td>\n",
       "      <td>289.0</td>\n",
       "    </tr>\n",
       "    <tr>\n",
       "      <th>10</th>\n",
       "      <td>5</td>\n",
       "      <td>5050000.0</td>\n",
       "      <td>39.60</td>\n",
       "      <td>2017-11-16T00:00:00</td>\n",
       "      <td>1</td>\n",
       "      <td>2.67</td>\n",
       "      <td>12.0</td>\n",
       "      <td>20.30</td>\n",
       "      <td>3</td>\n",
       "      <td>NaN</td>\n",
       "      <td>...</td>\n",
       "      <td>8.50</td>\n",
       "      <td>NaN</td>\n",
       "      <td>Санкт-Петербург</td>\n",
       "      <td>38357.0</td>\n",
       "      <td>13878.0</td>\n",
       "      <td>1.0</td>\n",
       "      <td>310.0</td>\n",
       "      <td>2.0</td>\n",
       "      <td>553.0</td>\n",
       "      <td>137.0</td>\n",
       "    </tr>\n",
       "    <tr>\n",
       "      <th>11</th>\n",
       "      <td>9</td>\n",
       "      <td>3300000.0</td>\n",
       "      <td>44.00</td>\n",
       "      <td>2018-08-27T00:00:00</td>\n",
       "      <td>2</td>\n",
       "      <td>NaN</td>\n",
       "      <td>5.0</td>\n",
       "      <td>31.00</td>\n",
       "      <td>4</td>\n",
       "      <td>False</td>\n",
       "      <td>...</td>\n",
       "      <td>6.00</td>\n",
       "      <td>1.0</td>\n",
       "      <td>Ломоносов</td>\n",
       "      <td>48252.0</td>\n",
       "      <td>51677.0</td>\n",
       "      <td>0.0</td>\n",
       "      <td>NaN</td>\n",
       "      <td>0.0</td>\n",
       "      <td>NaN</td>\n",
       "      <td>7.0</td>\n",
       "    </tr>\n",
       "    <tr>\n",
       "      <th>12</th>\n",
       "      <td>10</td>\n",
       "      <td>3890000.0</td>\n",
       "      <td>54.00</td>\n",
       "      <td>2016-06-30T00:00:00</td>\n",
       "      <td>2</td>\n",
       "      <td>NaN</td>\n",
       "      <td>5.0</td>\n",
       "      <td>30.00</td>\n",
       "      <td>5</td>\n",
       "      <td>NaN</td>\n",
       "      <td>...</td>\n",
       "      <td>9.00</td>\n",
       "      <td>0.0</td>\n",
       "      <td>Сертолово</td>\n",
       "      <td>NaN</td>\n",
       "      <td>NaN</td>\n",
       "      <td>NaN</td>\n",
       "      <td>NaN</td>\n",
       "      <td>NaN</td>\n",
       "      <td>NaN</td>\n",
       "      <td>90.0</td>\n",
       "    </tr>\n",
       "    <tr>\n",
       "      <th>13</th>\n",
       "      <td>20</td>\n",
       "      <td>3550000.0</td>\n",
       "      <td>42.80</td>\n",
       "      <td>2017-07-01T00:00:00</td>\n",
       "      <td>2</td>\n",
       "      <td>2.56</td>\n",
       "      <td>5.0</td>\n",
       "      <td>27.00</td>\n",
       "      <td>5</td>\n",
       "      <td>NaN</td>\n",
       "      <td>...</td>\n",
       "      <td>5.20</td>\n",
       "      <td>1.0</td>\n",
       "      <td>Петергоф</td>\n",
       "      <td>37868.0</td>\n",
       "      <td>33058.0</td>\n",
       "      <td>1.0</td>\n",
       "      <td>294.0</td>\n",
       "      <td>3.0</td>\n",
       "      <td>298.0</td>\n",
       "      <td>366.0</td>\n",
       "    </tr>\n",
       "    <tr>\n",
       "      <th>14</th>\n",
       "      <td>1</td>\n",
       "      <td>4400000.0</td>\n",
       "      <td>36.00</td>\n",
       "      <td>2016-06-23T00:00:00</td>\n",
       "      <td>1</td>\n",
       "      <td>NaN</td>\n",
       "      <td>6.0</td>\n",
       "      <td>17.00</td>\n",
       "      <td>1</td>\n",
       "      <td>NaN</td>\n",
       "      <td>...</td>\n",
       "      <td>8.00</td>\n",
       "      <td>0.0</td>\n",
       "      <td>Пушкин</td>\n",
       "      <td>20782.0</td>\n",
       "      <td>30759.0</td>\n",
       "      <td>0.0</td>\n",
       "      <td>NaN</td>\n",
       "      <td>1.0</td>\n",
       "      <td>96.0</td>\n",
       "      <td>203.0</td>\n",
       "    </tr>\n",
       "  </tbody>\n",
       "</table>\n",
       "<p>15 rows × 22 columns</p>\n",
       "</div>"
      ],
      "text/plain": [
       "    total_images  last_price  total_area first_day_exposition  rooms  \\\n",
       "0             20  13000000.0      108.00  2019-03-07T00:00:00      3   \n",
       "1              7   3350000.0       40.40  2018-12-04T00:00:00      1   \n",
       "2             10   5196000.0       56.00  2015-08-20T00:00:00      2   \n",
       "3              0  64900000.0      159.00  2015-07-24T00:00:00      3   \n",
       "4              2  10000000.0      100.00  2018-06-19T00:00:00      2   \n",
       "5             10   2890000.0       30.40  2018-09-10T00:00:00      1   \n",
       "6              6   3700000.0       37.30  2017-11-02T00:00:00      1   \n",
       "7              5   7915000.0       71.60  2019-04-18T00:00:00      2   \n",
       "8             20   2900000.0       33.16  2018-05-23T00:00:00      1   \n",
       "9             18   5400000.0       61.00  2017-02-26T00:00:00      3   \n",
       "10             5   5050000.0       39.60  2017-11-16T00:00:00      1   \n",
       "11             9   3300000.0       44.00  2018-08-27T00:00:00      2   \n",
       "12            10   3890000.0       54.00  2016-06-30T00:00:00      2   \n",
       "13            20   3550000.0       42.80  2017-07-01T00:00:00      2   \n",
       "14             1   4400000.0       36.00  2016-06-23T00:00:00      1   \n",
       "\n",
       "    ceiling_height  floors_total  living_area  floor is_apartment  ...  \\\n",
       "0             2.70          16.0        51.00      8          NaN  ...   \n",
       "1              NaN          11.0        18.60      1          NaN  ...   \n",
       "2              NaN           5.0        34.30      4          NaN  ...   \n",
       "3              NaN          14.0          NaN      9          NaN  ...   \n",
       "4             3.03          14.0        32.00     13          NaN  ...   \n",
       "5              NaN          12.0        14.40      5          NaN  ...   \n",
       "6              NaN          26.0        10.60      6          NaN  ...   \n",
       "7              NaN          24.0          NaN     22          NaN  ...   \n",
       "8              NaN          27.0        15.43     26          NaN  ...   \n",
       "9             2.50           9.0        43.60      7          NaN  ...   \n",
       "10            2.67          12.0        20.30      3          NaN  ...   \n",
       "11             NaN           5.0        31.00      4        False  ...   \n",
       "12             NaN           5.0        30.00      5          NaN  ...   \n",
       "13            2.56           5.0        27.00      5          NaN  ...   \n",
       "14             NaN           6.0        17.00      1          NaN  ...   \n",
       "\n",
       "    kitchen_area  balcony              locality_name  airports_nearest  \\\n",
       "0          25.00      NaN            Санкт-Петербург           18863.0   \n",
       "1          11.00      2.0             посёлок Шушары           12817.0   \n",
       "2           8.30      0.0            Санкт-Петербург           21741.0   \n",
       "3            NaN      0.0            Санкт-Петербург           28098.0   \n",
       "4          41.00      NaN            Санкт-Петербург           31856.0   \n",
       "5           9.10      NaN  городской посёлок Янино-1               NaN   \n",
       "6          14.40      1.0          посёлок Парголово           52996.0   \n",
       "7          18.90      2.0            Санкт-Петербург           23982.0   \n",
       "8           8.81      NaN             посёлок Мурино               NaN   \n",
       "9           6.50      2.0            Санкт-Петербург           50898.0   \n",
       "10          8.50      NaN            Санкт-Петербург           38357.0   \n",
       "11          6.00      1.0                  Ломоносов           48252.0   \n",
       "12          9.00      0.0                  Сертолово               NaN   \n",
       "13          5.20      1.0                   Петергоф           37868.0   \n",
       "14          8.00      0.0                     Пушкин           20782.0   \n",
       "\n",
       "   cityCenters_nearest  parks_around3000  parks_nearest  ponds_around3000  \\\n",
       "0              16028.0               1.0          482.0               2.0   \n",
       "1              18603.0               0.0            NaN               0.0   \n",
       "2              13933.0               1.0           90.0               2.0   \n",
       "3               6800.0               2.0           84.0               3.0   \n",
       "4               8098.0               2.0          112.0               1.0   \n",
       "5                  NaN               NaN            NaN               NaN   \n",
       "6              19143.0               0.0            NaN               0.0   \n",
       "7              11634.0               0.0            NaN               0.0   \n",
       "8                  NaN               NaN            NaN               NaN   \n",
       "9              15008.0               0.0            NaN               0.0   \n",
       "10             13878.0               1.0          310.0               2.0   \n",
       "11             51677.0               0.0            NaN               0.0   \n",
       "12                 NaN               NaN            NaN               NaN   \n",
       "13             33058.0               1.0          294.0               3.0   \n",
       "14             30759.0               0.0            NaN               1.0   \n",
       "\n",
       "    ponds_nearest  days_exposition  \n",
       "0           755.0              NaN  \n",
       "1             NaN             81.0  \n",
       "2           574.0            558.0  \n",
       "3           234.0            424.0  \n",
       "4            48.0            121.0  \n",
       "5             NaN             55.0  \n",
       "6             NaN            155.0  \n",
       "7             NaN              NaN  \n",
       "8             NaN            189.0  \n",
       "9             NaN            289.0  \n",
       "10          553.0            137.0  \n",
       "11            NaN              7.0  \n",
       "12            NaN             90.0  \n",
       "13          298.0            366.0  \n",
       "14           96.0            203.0  \n",
       "\n",
       "[15 rows x 22 columns]"
      ]
     },
     "metadata": {},
     "output_type": "display_data"
    },
    {
     "data": {
      "text/plain": [
       "'x'"
      ]
     },
     "execution_count": 34,
     "metadata": {},
     "output_type": "execute_result"
    },
    {
     "data": {
      "image/png": "[encoded data removed]",
      "text/plain": [
       "<Figure size 1080x1440 with 20 Axes>"
      ]
     },
     "metadata": {
      "needs_background": "light"
     },
     "output_type": "display_data"
    }
   ],
   "source": [
    "data = pd.read_csv('/datasets/real_estate_data.csv', sep = '\\t')\n",
    "\n",
    "display(data.head(15))\n",
    "\n",
    "data.hist(figsize = (15,20))\n",
    "\n",
    "'x'"
   ]
  },
  {
   "cell_type": "markdown",
   "metadata": {},
   "source": [
    "При знакомстве с данными обращает внимание следующее:\n",
    "\n",
    "- Большое количество пропусков в столбце ceiling_height, чтобы это не отразилось на результате нужно это исправить\n",
    "- Большое количество пропусков в столбце is_apartment, здесь возможно причина в специфике формулировки\n",
    "- На графиках видны показатели 0, которые вероятно аномальные, к примеру в столбце days_exposition, airports_nearst\n",
    "\n",
    "Соответственно, необходимо проверить данные и избавить их от пропусков, аномалий и явных дубликатов."
   ]
  },
  {
   "cell_type": "markdown",
   "metadata": {},
   "source": [
    "### Предобработка данных"
   ]
  },
  {
   "cell_type": "markdown",
   "metadata": {},
   "source": [
    "# Поиск пропусков и анамальных значений. При необходимости замена типов данных и другие подготовительные работы."
   ]
  },
  {
   "cell_type": "code",
   "execution_count": 35,
   "metadata": {},
   "outputs": [
    {
     "name": "stdout",
     "output_type": "stream",
     "text": [
      "<class 'pandas.core.frame.DataFrame'>\n",
      "RangeIndex: 23699 entries, 0 to 23698\n",
      "Data columns (total 22 columns):\n",
      " #   Column                Non-Null Count  Dtype  \n",
      "---  ------                --------------  -----  \n",
      " 0   total_images          23699 non-null  int64  \n",
      " 1   last_price            23699 non-null  float64\n",
      " 2   total_area            23699 non-null  float64\n",
      " 3   first_day_exposition  23699 non-null  object \n",
      " 4   rooms                 23699 non-null  int64  \n",
      " 5   ceiling_height        14504 non-null  float64\n",
      " 6   floors_total          23613 non-null  float64\n",
      " 7   living_area           21796 non-null  float64\n",
      " 8   floor                 23699 non-null  int64  \n",
      " 9   is_apartment          2775 non-null   object \n",
      " 10  studio                23699 non-null  bool   \n",
      " 11  open_plan             23699 non-null  bool   \n",
      " 12  kitchen_area          21421 non-null  float64\n",
      " 13  balcony               12180 non-null  float64\n",
      " 14  locality_name         23650 non-null  object \n",
      " 15  airports_nearest      18157 non-null  float64\n",
      " 16  cityCenters_nearest   18180 non-null  float64\n",
      " 17  parks_around3000      18181 non-null  float64\n",
      " 18  parks_nearest         8079 non-null   float64\n",
      " 19  ponds_around3000      18181 non-null  float64\n",
      " 20  ponds_nearest         9110 non-null   float64\n",
      " 21  days_exposition       20518 non-null  float64\n",
      "dtypes: bool(2), float64(14), int64(3), object(3)\n",
      "memory usage: 3.7+ MB\n"
     ]
    },
    {
     "data": {
      "text/plain": [
       "'x'"
      ]
     },
     "execution_count": 35,
     "metadata": {},
     "output_type": "execute_result"
    }
   ],
   "source": [
    "data.info()\n",
    "\n",
    "'x'"
   ]
  },
  {
   "cell_type": "code",
   "execution_count": 36,
   "metadata": {},
   "outputs": [
    {
     "data": {
      "text/plain": [
       "total_images                0\n",
       "last_price                  0\n",
       "total_area                  0\n",
       "first_day_exposition        0\n",
       "rooms                       0\n",
       "ceiling_height           9195\n",
       "floors_total               86\n",
       "living_area              1903\n",
       "floor                       0\n",
       "is_apartment            20924\n",
       "studio                      0\n",
       "open_plan                   0\n",
       "kitchen_area             2278\n",
       "balcony                 11519\n",
       "locality_name              49\n",
       "airports_nearest         5542\n",
       "cityCenters_nearest      5519\n",
       "parks_around3000         5518\n",
       "parks_nearest           15620\n",
       "ponds_around3000         5518\n",
       "ponds_nearest           14589\n",
       "days_exposition          3181\n",
       "dtype: int64"
      ]
     },
     "execution_count": 36,
     "metadata": {},
     "output_type": "execute_result"
    }
   ],
   "source": [
    "#проверим количество пропуском в столбцах\n",
    "\n",
    "data.isna().sum()"
   ]
  },
  {
   "cell_type": "markdown",
   "metadata": {},
   "source": [
    "Сразу можно отметить - данные нуждаются в кооррекции. Например: большое количество пропусков, они могли возникнуть из-за отстутствия в объекте балкона или парка. Или же это техническая ошибка. \n",
    "Также есть ошибки в типах данных. Например, в коррекции типа нуждаются: first_day_exposition, floors_total, days_exposition "
   ]
  },
  {
   "cell_type": "code",
   "execution_count": 37,
   "metadata": {},
   "outputs": [],
   "source": [
    "#приведем в рабочий вид некоторые столбцы, где требуется только заменить пропуск и тип данных\n",
    "\n",
    "data['first_day_exposition'] = pd.to_datetime(data['first_day_exposition'], format = '%Y-%m-%d')\n",
    "data['floors_total'] = data['floors_total'].fillna(0)\n",
    "data['days_exposition'] = data['days_exposition'].fillna(0).astype('int')\n",
    "data['balcony'] = data['balcony'].fillna(0).astype('int')\n",
    "data['last_price'] = data['last_price'].astype('int')\n",
    "data['is_apartment'] = data['is_apartment'].fillna('Нет данных')\n"
   ]
  },
  {
   "cell_type": "markdown",
   "metadata": {},
   "source": [
    "При обработке данных от пропусков в некоторых столбцах '0' используется как значение - например, столбец 'balcony', ведь балкона может не быть в объекте.\n",
    "В других случая '0' указан как заглушка."
   ]
  },
  {
   "cell_type": "code",
   "execution_count": 38,
   "metadata": {},
   "outputs": [
    {
     "data": {
      "image/png": "[encoded data removed]",
      "text/plain": [
       "<Figure size 432x288 with 1 Axes>"
      ]
     },
     "metadata": {
      "needs_background": "light"
     },
     "output_type": "display_data"
    }
   ],
   "source": [
    "#теперь скорректируем остальные столбцы, начнем с параметра ceiling_height\n",
    "\n",
    "\n",
    "data['ceiling_height'].value_counts() \n",
    "low_ceiling = data['ceiling_height'] <= 2.3\n",
    "high_ceiling = data['ceiling_height'] >= 3\n",
    "data['ceiling_height'].plot(y = 'high_ceiling', x = 'low_ceiling', kind = 'hist', bins = 7, range=(2,8))\n",
    "\n",
    "#достаточно стандартные параметры, но есть несколько уникальных\n",
    "\n",
    "data['ceiling_height'] = data['ceiling_height'].fillna(data['ceiling_height']).median()"
   ]
  },
  {
   "cell_type": "code",
   "execution_count": 39,
   "metadata": {},
   "outputs": [
    {
     "data": {
      "text/plain": [
       "total_images                0\n",
       "last_price                  0\n",
       "total_area                  0\n",
       "first_day_exposition        0\n",
       "rooms                       0\n",
       "ceiling_height              0\n",
       "floors_total                0\n",
       "living_area              1903\n",
       "floor                       0\n",
       "is_apartment                0\n",
       "studio                      0\n",
       "open_plan                   0\n",
       "kitchen_area             2278\n",
       "balcony                     0\n",
       "locality_name              49\n",
       "airports_nearest         5542\n",
       "cityCenters_nearest      5519\n",
       "parks_around3000         5518\n",
       "parks_nearest           15620\n",
       "ponds_around3000         5518\n",
       "ponds_nearest           14589\n",
       "days_exposition             0\n",
       "dtype: int64"
      ]
     },
     "execution_count": 39,
     "metadata": {},
     "output_type": "execute_result"
    }
   ],
   "source": [
    "#проверяем данные на пропуски:\n",
    "\n",
    "data.isna().sum()     \n",
    "    "
   ]
  },
  {
   "cell_type": "markdown",
   "metadata": {},
   "source": [
    "Оставшиеся столбцы с пропусками, можно разделить по тематике:\n",
    "\n",
    "- Площади объектов: 'living_area' и 'kitchen_area' в процессе работы мы будем видеть медианное значение их показателей и тогда выясним мешают ли пропуски.\n",
    "\n",
    "- Картографические данные: 'locality_name','airports_nearest','cityCenters_nearest','parks_around3000','parks_nearest','ponds_around3000','ponds_nearest' здесь могут быть разные причины пропусков: как отсутствие параметра у объекта, так и технический или человеческий факторы. Пока их трогать не будем, но зная об их наличии будем контролировать показатели."
   ]
  },
  {
   "cell_type": "code",
   "execution_count": 40,
   "metadata": {},
   "outputs": [
    {
     "data": {
      "text/plain": [
       "array(['Санкт-Петербург', 'посёлок Шушары', 'городской посёлок Янино-1',\n",
       "       'посёлок Парголово', 'посёлок Мурино', 'Ломоносов', 'Сертолово',\n",
       "       'Петергоф', 'Пушкин', 'деревня Кудрово', 'Коммунар', 'Колпино',\n",
       "       'поселок городского типа Красный Бор', 'Гатчина', 'поселок Мурино',\n",
       "       'деревня Фёдоровское', 'Выборг', 'Кронштадт', 'Кировск',\n",
       "       'деревня Новое Девяткино', 'посёлок Металлострой',\n",
       "       'посёлок городского типа Лебяжье',\n",
       "       'посёлок городского типа Сиверский', 'поселок Молодцово',\n",
       "       'поселок городского типа Кузьмоловский',\n",
       "       'садовое товарищество Новая Ропша', 'Павловск',\n",
       "       'деревня Пикколово', 'Всеволожск', 'Волхов', 'Кингисепп',\n",
       "       'Приозерск', 'Сестрорецк', 'деревня Куттузи', 'посёлок Аннино',\n",
       "       'поселок городского типа Ефимовский', 'посёлок Плодовое',\n",
       "       'деревня Заклинье', 'поселок Торковичи', 'поселок Первомайское',\n",
       "       'Красное Село', 'посёлок Понтонный', 'Сясьстрой', 'деревня Старая',\n",
       "       'деревня Лесколово', 'посёлок Новый Свет', 'Сланцы',\n",
       "       'село Путилово', 'Ивангород', 'Мурино', 'Шлиссельбург',\n",
       "       'Никольское', 'Зеленогорск', 'Сосновый Бор', 'поселок Новый Свет',\n",
       "       'деревня Оржицы', 'деревня Кальтино', 'Кудрово',\n",
       "       'поселок Романовка', 'посёлок Бугры', 'поселок Бугры',\n",
       "       'поселок городского типа Рощино', 'Кириши', 'Луга', 'Волосово',\n",
       "       'Отрадное', 'село Павлово', 'поселок Оредеж', 'село Копорье',\n",
       "       'посёлок городского типа Красный Бор', 'посёлок Молодёжное',\n",
       "       'Тихвин', 'посёлок Победа', 'деревня Нурма',\n",
       "       'поселок городского типа Синявино', 'Тосно',\n",
       "       'посёлок городского типа Кузьмоловский', 'посёлок Стрельна',\n",
       "       'Бокситогорск', 'посёлок Александровская', 'деревня Лопухинка',\n",
       "       'Пикалёво', 'поселок Терволово',\n",
       "       'поселок городского типа Советский', 'Подпорожье',\n",
       "       'посёлок Петровское', 'посёлок городского типа Токсово',\n",
       "       'поселок Сельцо', 'посёлок городского типа Вырица',\n",
       "       'деревня Кипень', 'деревня Келози', 'деревня Вартемяги',\n",
       "       'посёлок Тельмана', 'поселок Севастьяново',\n",
       "       'городской поселок Большая Ижора', nan,\n",
       "       'городской посёлок Павлово', 'деревня Агалатово',\n",
       "       'посёлок Новогорелово', 'городской посёлок Лесогорский',\n",
       "       'деревня Лаголово', 'поселок Цвелодубово',\n",
       "       'поселок городского типа Рахья', 'поселок городского типа Вырица',\n",
       "       'деревня Белогорка', 'поселок Заводской',\n",
       "       'городской посёлок Новоселье', 'деревня Большие Колпаны',\n",
       "       'деревня Горбунки', 'деревня Батово', 'деревня Заневка',\n",
       "       'деревня Иссад', 'Приморск', 'городской посёлок Фёдоровское',\n",
       "       'деревня Мистолово', 'Новая Ладога', 'поселок Зимитицы',\n",
       "       'поселок Барышево', 'деревня Разметелево',\n",
       "       'поселок городского типа имени Свердлова', 'деревня Пеники',\n",
       "       'поселок Рябово', 'деревня Пудомяги', 'поселок станции Корнево',\n",
       "       'деревня Низино', 'деревня Бегуницы', 'посёлок Поляны',\n",
       "       'городской посёлок Мга', 'поселок Елизаветино',\n",
       "       'посёлок городского типа Кузнечное', 'деревня Колтуши',\n",
       "       'поселок Запорожское', 'посёлок городского типа Рощино',\n",
       "       'деревня Гостилицы', 'деревня Малое Карлино',\n",
       "       'посёлок Мичуринское', 'посёлок городского типа имени Морозова',\n",
       "       'посёлок Песочный', 'посёлок Сосново', 'деревня Аро',\n",
       "       'поселок Ильичёво', 'посёлок городского типа Тайцы',\n",
       "       'деревня Малое Верево', 'деревня Извара', 'поселок станции Вещево',\n",
       "       'село Паша', 'деревня Калитино',\n",
       "       'посёлок городского типа Ульяновка', 'деревня Чудской Бор',\n",
       "       'поселок городского типа Дубровка', 'деревня Мины',\n",
       "       'поселок Войсковицы', 'посёлок городского типа имени Свердлова',\n",
       "       'деревня Коркино', 'посёлок Ропша',\n",
       "       'поселок городского типа Приладожский', 'посёлок Щеглово',\n",
       "       'посёлок Гаврилово', 'Лодейное Поле', 'деревня Рабитицы',\n",
       "       'поселок городского типа Никольский', 'деревня Кузьмолово',\n",
       "       'деревня Малые Колпаны', 'поселок Тельмана',\n",
       "       'посёлок Петро-Славянка', 'городской посёлок Назия',\n",
       "       'посёлок Репино', 'посёлок Ильичёво', 'поселок Углово',\n",
       "       'поселок Старая Малукса', 'садовое товарищество Рахья',\n",
       "       'поселок Аннино', 'поселок Победа', 'деревня Меньково',\n",
       "       'деревня Старые Бегуницы', 'посёлок Сапёрный', 'поселок Семрино',\n",
       "       'поселок Гаврилово', 'поселок Глажево', 'поселок Кобринское',\n",
       "       'деревня Гарболово', 'деревня Юкки',\n",
       "       'поселок станции Приветнинское', 'деревня Мануйлово',\n",
       "       'деревня Пчева', 'поселок Поляны', 'поселок Цвылёво',\n",
       "       'поселок Мельниково', 'посёлок Пудость', 'посёлок Усть-Луга',\n",
       "       'Светогорск', 'Любань', 'поселок Селезнёво',\n",
       "       'поселок городского типа Рябово', 'Каменногорск', 'деревня Кривко',\n",
       "       'поселок Глебычево', 'деревня Парицы', 'поселок Жилпосёлок',\n",
       "       'посёлок городского типа Мга', 'городской поселок Янино-1',\n",
       "       'посёлок Войскорово', 'село Никольское', 'посёлок Терволово',\n",
       "       'поселок Стеклянный', 'посёлок городского типа Важины',\n",
       "       'посёлок Мыза-Ивановка', 'село Русско-Высоцкое',\n",
       "       'поселок городского типа Лебяжье',\n",
       "       'поселок городского типа Форносово', 'село Старая Ладога',\n",
       "       'поселок Житково', 'городской посёлок Виллози', 'деревня Лампово',\n",
       "       'деревня Шпаньково', 'деревня Лаврики', 'посёлок Сумино',\n",
       "       'посёлок Возрождение', 'деревня Старосиверская',\n",
       "       'посёлок Кикерино', 'поселок Возрождение',\n",
       "       'деревня Старое Хинколово', 'посёлок Пригородный',\n",
       "       'посёлок Торфяное', 'городской посёлок Будогощь',\n",
       "       'поселок Суходолье', 'поселок Красная Долина', 'деревня Хапо-Ое',\n",
       "       'поселок городского типа Дружная Горка', 'поселок Лисий Нос',\n",
       "       'деревня Яльгелево', 'посёлок Стеклянный', 'село Рождествено',\n",
       "       'деревня Старополье', 'посёлок Левашово', 'деревня Сяськелево',\n",
       "       'деревня Камышовка',\n",
       "       'садоводческое некоммерческое товарищество Лесная Поляна',\n",
       "       'деревня Хязельки', 'поселок Жилгородок',\n",
       "       'посёлок городского типа Павлово', 'деревня Ялгино',\n",
       "       'поселок Новый Учхоз', 'городской посёлок Рощино',\n",
       "       'поселок Гончарово', 'поселок Почап', 'посёлок Сапёрное',\n",
       "       'посёлок Платформа 69-й километр', 'поселок Каложицы',\n",
       "       'деревня Фалилеево', 'деревня Пельгора',\n",
       "       'поселок городского типа Лесогорский', 'деревня Торошковичи',\n",
       "       'посёлок Белоостров', 'посёлок Алексеевка', 'поселок Серебрянский',\n",
       "       'поселок Лукаши', 'поселок Петровское', 'деревня Щеглово',\n",
       "       'поселок Мичуринское', 'деревня Тарасово', 'поселок Кингисеппский',\n",
       "       'посёлок при железнодорожной станции Вещево', 'поселок Ушаки',\n",
       "       'деревня Котлы', 'деревня Сижно', 'деревня Торосово',\n",
       "       'посёлок Форт Красная Горка', 'поселок городского типа Токсово',\n",
       "       'деревня Новолисино', 'посёлок станции Громово', 'деревня Глинка',\n",
       "       'посёлок Мельниково', 'поселок городского типа Назия',\n",
       "       'деревня Старая Пустошь', 'поселок Коммунары', 'поселок Починок',\n",
       "       'посёлок городского типа Вознесенье', 'деревня Разбегаево',\n",
       "       'посёлок городского типа Рябово', 'поселок Гладкое',\n",
       "       'посёлок при железнодорожной станции Приветнинское',\n",
       "       'поселок Тёсово-4', 'посёлок Жилгородок', 'деревня Бор',\n",
       "       'посёлок Коробицыно', 'деревня Большая Вруда', 'деревня Курковицы',\n",
       "       'посёлок Лисий Нос', 'городской посёлок Советский',\n",
       "       'посёлок Кобралово', 'деревня Суоранда', 'поселок Кобралово',\n",
       "       'поселок городского типа Кондратьево',\n",
       "       'коттеджный поселок Счастье', 'поселок Любань', 'деревня Реброво',\n",
       "       'деревня Зимитицы', 'деревня Тойворово', 'поселок Семиозерье',\n",
       "       'поселок Лесное', 'поселок Совхозный', 'поселок Усть-Луга',\n",
       "       'посёлок Ленинское', 'посёлок Суйда',\n",
       "       'посёлок городского типа Форносово', 'деревня Нижние Осельки',\n",
       "       'посёлок станции Свирь', 'поселок Перово', 'Высоцк',\n",
       "       'поселок Гарболово', 'село Шум', 'поселок Котельский',\n",
       "       'поселок станции Лужайка', 'деревня Большая Пустомержа',\n",
       "       'поселок Красносельское', 'деревня Вахнова Кара', 'деревня Пижма',\n",
       "       'коттеджный поселок Кивеннапа Север', 'поселок Коробицыно',\n",
       "       'поселок Ромашки', 'посёлок Перово', 'деревня Каськово',\n",
       "       'деревня Куровицы', 'посёлок Плоское', 'поселок Сумино',\n",
       "       'поселок городского типа Большая Ижора', 'поселок Кирпичное',\n",
       "       'деревня Ям-Тесово', 'деревня Раздолье', 'деревня Терпилицы',\n",
       "       'посёлок Шугозеро', 'деревня Ваганово', 'поселок Пушное',\n",
       "       'садовое товарищество Садко', 'посёлок Усть-Ижора',\n",
       "       'деревня Выскатка', 'городской посёлок Свирьстрой',\n",
       "       'поселок Громово', 'деревня Кисельня', 'посёлок Старая Малукса',\n",
       "       'деревня Трубников Бор', 'поселок Калитино',\n",
       "       'посёлок Высокоключевой', 'садовое товарищество Приладожский',\n",
       "       'посёлок Пансионат Зелёный Бор', 'деревня Ненимяки',\n",
       "       'поселок Пансионат Зелёный Бор', 'деревня Снегирёвка',\n",
       "       'деревня Рапполово', 'деревня Пустынка', 'поселок Рабитицы',\n",
       "       'деревня Большой Сабск', 'деревня Русско', 'деревня Лупполово',\n",
       "       'деревня Большое Рейзино', 'деревня Малая Романовка',\n",
       "       'поселок Дружноселье', 'поселок Пчевжа', 'поселок Володарское',\n",
       "       'деревня Нижняя', 'коттеджный посёлок Лесное', 'деревня Тихковицы',\n",
       "       'деревня Борисова Грива', 'посёлок Дзержинского'], dtype=object)"
      ]
     },
     "execution_count": 40,
     "metadata": {},
     "output_type": "execute_result"
    }
   ],
   "source": [
    "#Изучим уникальные значения столбца locality_name\n",
    "\n",
    "data['locality_name'].unique()\n"
   ]
  },
  {
   "cell_type": "code",
   "execution_count": 41,
   "metadata": {},
   "outputs": [],
   "source": [
    "#заменим некоторые символы и значения, чтобы сделать столбец более читаемым:\n",
    "\n",
    "data['locality_name'] = data['locality_name'].str.replace('ё', 'е')"
   ]
  },
  {
   "cell_type": "code",
   "execution_count": 42,
   "metadata": {},
   "outputs": [],
   "source": [
    "to_replace = {\n",
    "     r'(\\b)городской поселок(\\b)':r'\\1ПГТ\\2',\n",
    "     r'(\\b)поселок городского типа(\\b)':r'\\1ПГТ\\2',\n",
    "     r'(\\b)поселок при железнодорожной станции(\\b)':r'\\1поселок при ЖД станции\\2',\n",
    "     r'(\\b)садоводческое некоммерческое товарищество(\\b)':r'\\1садовое товарищество\\2',\n",
    "     r'(\\b)коттеджный поселок(\\b)':r'\\1КП\\2'}\n",
    "data['locality_name'].replace(to_replace, regex=True)\n",
    "\n",
    "data['locality_name'] = data['locality_name'].replace(to_replace, regex=True).str.lower()"
   ]
  },
  {
   "cell_type": "code",
   "execution_count": 43,
   "metadata": {},
   "outputs": [
    {
     "data": {
      "text/plain": [
       "array(['санкт-петербург', 'поселок шушары', 'пгт янино-1',\n",
       "       'поселок парголово', 'поселок мурино', 'ломоносов', 'сертолово',\n",
       "       'петергоф', 'пушкин', 'деревня кудрово', 'коммунар', 'колпино',\n",
       "       'пгт красный бор', 'гатчина', 'деревня федоровское', 'выборг',\n",
       "       'кронштадт', 'кировск', 'деревня новое девяткино',\n",
       "       'поселок металлострой', 'пгт лебяжье', 'пгт сиверский',\n",
       "       'поселок молодцово', 'пгт кузьмоловский',\n",
       "       'садовое товарищество новая ропша', 'павловск',\n",
       "       'деревня пикколово', 'всеволожск', 'волхов', 'кингисепп',\n",
       "       'приозерск', 'сестрорецк', 'деревня куттузи', 'поселок аннино',\n",
       "       'пгт ефимовский', 'поселок плодовое', 'деревня заклинье',\n",
       "       'поселок торковичи', 'поселок первомайское', 'красное село',\n",
       "       'поселок понтонный', 'сясьстрой', 'деревня старая',\n",
       "       'деревня лесколово', 'поселок новый свет', 'сланцы',\n",
       "       'село путилово', 'ивангород', 'мурино', 'шлиссельбург',\n",
       "       'никольское', 'зеленогорск', 'сосновый бор', 'деревня оржицы',\n",
       "       'деревня кальтино', 'кудрово', 'поселок романовка',\n",
       "       'поселок бугры', 'пгт рощино', 'кириши', 'луга', 'волосово',\n",
       "       'отрадное', 'село павлово', 'поселок оредеж', 'село копорье',\n",
       "       'поселок молодежное', 'тихвин', 'поселок победа', 'деревня нурма',\n",
       "       'пгт синявино', 'тосно', 'поселок стрельна', 'бокситогорск',\n",
       "       'поселок александровская', 'деревня лопухинка', 'пикалево',\n",
       "       'поселок терволово', 'пгт советский', 'подпорожье',\n",
       "       'поселок петровское', 'пгт токсово', 'поселок сельцо',\n",
       "       'пгт вырица', 'деревня кипень', 'деревня келози',\n",
       "       'деревня вартемяги', 'поселок тельмана', 'поселок севастьяново',\n",
       "       'пгт большая ижора', nan, 'пгт павлово', 'деревня агалатово',\n",
       "       'поселок новогорелово', 'пгт лесогорский', 'деревня лаголово',\n",
       "       'поселок цвелодубово', 'пгт рахья', 'деревня белогорка',\n",
       "       'поселок заводской', 'пгт новоселье', 'деревня большие колпаны',\n",
       "       'деревня горбунки', 'деревня батово', 'деревня заневка',\n",
       "       'деревня иссад', 'приморск', 'пгт федоровское',\n",
       "       'деревня мистолово', 'новая ладога', 'поселок зимитицы',\n",
       "       'поселок барышево', 'деревня разметелево', 'пгт имени свердлова',\n",
       "       'деревня пеники', 'поселок рябово', 'деревня пудомяги',\n",
       "       'поселок станции корнево', 'деревня низино', 'деревня бегуницы',\n",
       "       'поселок поляны', 'пгт мга', 'поселок елизаветино',\n",
       "       'пгт кузнечное', 'деревня колтуши', 'поселок запорожское',\n",
       "       'деревня гостилицы', 'деревня малое карлино',\n",
       "       'поселок мичуринское', 'пгт имени морозова', 'поселок песочный',\n",
       "       'поселок сосново', 'деревня аро', 'поселок ильичево', 'пгт тайцы',\n",
       "       'деревня малое верево', 'деревня извара', 'поселок станции вещево',\n",
       "       'село паша', 'деревня калитино', 'пгт ульяновка',\n",
       "       'деревня чудской бор', 'пгт дубровка', 'деревня мины',\n",
       "       'поселок войсковицы', 'деревня коркино', 'поселок ропша',\n",
       "       'пгт приладожский', 'поселок щеглово', 'поселок гаврилово',\n",
       "       'лодейное поле', 'деревня рабитицы', 'пгт никольский',\n",
       "       'деревня кузьмолово', 'деревня малые колпаны',\n",
       "       'поселок петро-славянка', 'пгт назия', 'поселок репино',\n",
       "       'поселок углово', 'поселок старая малукса',\n",
       "       'садовое товарищество рахья', 'деревня меньково',\n",
       "       'деревня старые бегуницы', 'поселок саперный', 'поселок семрино',\n",
       "       'поселок глажево', 'поселок кобринское', 'деревня гарболово',\n",
       "       'деревня юкки', 'поселок станции приветнинское',\n",
       "       'деревня мануйлово', 'деревня пчева', 'поселок цвылево',\n",
       "       'поселок мельниково', 'поселок пудость', 'поселок усть-луга',\n",
       "       'светогорск', 'любань', 'поселок селезнево', 'пгт рябово',\n",
       "       'каменногорск', 'деревня кривко', 'поселок глебычево',\n",
       "       'деревня парицы', 'поселок жилпоселок', 'поселок войскорово',\n",
       "       'село никольское', 'поселок стеклянный', 'пгт важины',\n",
       "       'поселок мыза-ивановка', 'село русско-высоцкое', 'пгт форносово',\n",
       "       'село старая ладога', 'поселок житково', 'пгт виллози',\n",
       "       'деревня лампово', 'деревня шпаньково', 'деревня лаврики',\n",
       "       'поселок сумино', 'поселок возрождение', 'деревня старосиверская',\n",
       "       'поселок кикерино', 'деревня старое хинколово',\n",
       "       'поселок пригородный', 'поселок торфяное', 'пгт будогощь',\n",
       "       'поселок суходолье', 'поселок красная долина', 'деревня хапо-ое',\n",
       "       'пгт дружная горка', 'поселок лисий нос', 'деревня яльгелево',\n",
       "       'село рождествено', 'деревня старополье', 'поселок левашово',\n",
       "       'деревня сяськелево', 'деревня камышовка',\n",
       "       'садовое товарищество лесная поляна', 'деревня хязельки',\n",
       "       'поселок жилгородок', 'деревня ялгино', 'поселок новый учхоз',\n",
       "       'поселок гончарово', 'поселок почап', 'поселок саперное',\n",
       "       'поселок платформа 69-й километр', 'поселок каложицы',\n",
       "       'деревня фалилеево', 'деревня пельгора', 'деревня торошковичи',\n",
       "       'поселок белоостров', 'поселок алексеевка', 'поселок серебрянский',\n",
       "       'поселок лукаши', 'деревня щеглово', 'деревня тарасово',\n",
       "       'поселок кингисеппский', 'поселок при жд станции вещево',\n",
       "       'поселок ушаки', 'деревня котлы', 'деревня сижно',\n",
       "       'деревня торосово', 'поселок форт красная горка',\n",
       "       'деревня новолисино', 'поселок станции громово', 'деревня глинка',\n",
       "       'деревня старая пустошь', 'поселок коммунары', 'поселок починок',\n",
       "       'пгт вознесенье', 'деревня разбегаево', 'поселок гладкое',\n",
       "       'поселок при жд станции приветнинское', 'поселок тесово-4',\n",
       "       'деревня бор', 'поселок коробицыно', 'деревня большая вруда',\n",
       "       'деревня курковицы', 'поселок кобралово', 'деревня суоранда',\n",
       "       'пгт кондратьево', 'кп счастье', 'поселок любань',\n",
       "       'деревня реброво', 'деревня зимитицы', 'деревня тойворово',\n",
       "       'поселок семиозерье', 'поселок лесное', 'поселок совхозный',\n",
       "       'поселок ленинское', 'поселок суйда', 'деревня нижние осельки',\n",
       "       'поселок станции свирь', 'поселок перово', 'высоцк',\n",
       "       'поселок гарболово', 'село шум', 'поселок котельский',\n",
       "       'поселок станции лужайка', 'деревня большая пустомержа',\n",
       "       'поселок красносельское', 'деревня вахнова кара', 'деревня пижма',\n",
       "       'кп кивеннапа север', 'поселок ромашки', 'деревня каськово',\n",
       "       'деревня куровицы', 'поселок плоское', 'поселок кирпичное',\n",
       "       'деревня ям-тесово', 'деревня раздолье', 'деревня терпилицы',\n",
       "       'поселок шугозеро', 'деревня ваганово', 'поселок пушное',\n",
       "       'садовое товарищество садко', 'поселок усть-ижора',\n",
       "       'деревня выскатка', 'пгт свирьстрой', 'поселок громово',\n",
       "       'деревня кисельня', 'деревня трубников бор', 'поселок калитино',\n",
       "       'поселок высокоключевой', 'садовое товарищество приладожский',\n",
       "       'поселок пансионат зеленый бор', 'деревня ненимяки',\n",
       "       'деревня снегиревка', 'деревня рапполово', 'деревня пустынка',\n",
       "       'поселок рабитицы', 'деревня большой сабск', 'деревня русско',\n",
       "       'деревня лупполово', 'деревня большое рейзино',\n",
       "       'деревня малая романовка', 'поселок дружноселье', 'поселок пчевжа',\n",
       "       'поселок володарское', 'деревня нижняя', 'кп лесное',\n",
       "       'деревня тихковицы', 'деревня борисова грива',\n",
       "       'поселок дзержинского'], dtype=object)"
      ]
     },
     "execution_count": 43,
     "metadata": {},
     "output_type": "execute_result"
    }
   ],
   "source": [
    "#прорверим изменения - данные столбца стали однородными и легче читаются\n",
    "\n",
    "data['locality_name'].unique()"
   ]
  },
  {
   "cell_type": "markdown",
   "metadata": {},
   "source": [
    "### Посчитаем и добавьте в таблицу новые столбцы"
   ]
  },
  {
   "cell_type": "code",
   "execution_count": 44,
   "metadata": {},
   "outputs": [],
   "source": [
    "#дополним таблицу новыми столбцами: со стоимостью м кв; днем недели, месяцом и годом публикации:\n",
    "\n",
    "data['cost_square_meter'] = data['last_price'] / data['total_area']\n",
    "\n",
    "data['day_of_publication'] = data['first_day_exposition'].dt.weekday\n",
    "\n",
    "data['month_of_publication'] = data['first_day_exposition'].dt.month\n",
    "\n",
    "data['year_of_publication'] = data['first_day_exposition'].dt.year"
   ]
  },
  {
   "cell_type": "code",
   "execution_count": 45,
   "metadata": {},
   "outputs": [],
   "source": [
    "#категоризуем этажи функцией:\n",
    "\n",
    "def floor_category(row):\n",
    "    floors_total = row['floors_total']\n",
    "    floor = row['floor']\n",
    "    if floor == 1:\n",
    "        return 'первый'\n",
    "    elif floor == floors_total:\n",
    "        return 'последний'\n",
    "    elif 1 < floor < floors_total:\n",
    "        return 'другие'\n",
    "    \n",
    "data['floor_category'] = data.apply(floor_category, axis = 1)\n"
   ]
  },
  {
   "cell_type": "code",
   "execution_count": 46,
   "metadata": {},
   "outputs": [],
   "source": [
    "#рассчитаем расстояние от центра города в километрах и обновим информацию в столбце cityCenters_nearest:\n",
    "import numpy as np\n",
    "\n",
    "data['cityCenters_nearest'] = (data['cityCenters_nearest']/1000).apply(np.floor)"
   ]
  },
  {
   "cell_type": "markdown",
   "metadata": {},
   "source": [
    "# Исследуем данные и сделаем выводы о состоянии рынка, а именно объектов на нем представленных."
   ]
  },
  {
   "cell_type": "code",
   "execution_count": 47,
   "metadata": {},
   "outputs": [
    {
     "data": {
      "text/plain": [
       "count    23699.000000\n",
       "mean        60.348651\n",
       "std         35.654083\n",
       "min         12.000000\n",
       "25%         40.000000\n",
       "50%         52.000000\n",
       "75%         69.900000\n",
       "max        900.000000\n",
       "Name: total_area, dtype: float64"
      ]
     },
     "execution_count": 47,
     "metadata": {},
     "output_type": "execute_result"
    },
    {
     "data": {
      "image/png": "[encoded data removed]",
      "text/plain": [
       "<Figure size 432x288 with 1 Axes>"
      ]
     },
     "metadata": {
      "needs_background": "light"
     },
     "output_type": "display_data"
    }
   ],
   "source": [
    "#Проведем исследовательский анализ параметров объектов. Общая площадь объектов: \n",
    "\n",
    "data.plot(y = 'total_area',kind = 'hist', bins = 10, range = (2,115), grid=True, figsize = (6,4), color = 'red')\n",
    "data['total_area'].describe()"
   ]
  },
  {
   "cell_type": "markdown",
   "metadata": {},
   "source": [
    "На графике мы видим, что большая масса объектов приходится на площадь до 100 квм, но есть и объекты площадью выше и их достаточно. \n",
    "А также, есть и объекты площадью от 300 и выше метров, что можно отнести к нерегулярным т.к. их количество невелико. \n",
    "\n",
    "Таким образом, очевидно, что квартиры средних размеров общей площадью около 40 метров являются явными лидерами рынка.\n",
    "Студии, малогабаритные квартиры до 20 кв м и крупногабаритные квартиры более 80 кв м - являются скорее уникальными предложениями"
   ]
  },
  {
   "cell_type": "code",
   "execution_count": 48,
   "metadata": {},
   "outputs": [
    {
     "data": {
      "text/plain": [
       "count    21421.0\n",
       "mean        11.0\n",
       "std          6.0\n",
       "min          1.0\n",
       "25%          7.0\n",
       "50%          9.0\n",
       "75%         12.0\n",
       "max        112.0\n",
       "Name: kitchen_area, dtype: float64"
      ]
     },
     "execution_count": 48,
     "metadata": {},
     "output_type": "execute_result"
    },
    {
     "data": {
      "image/png": "[encoded data removed]",
      "text/plain": [
       "<Figure size 720x288 with 1 Axes>"
      ]
     },
     "metadata": {
      "needs_background": "light"
     },
     "output_type": "display_data"
    }
   ],
   "source": [
    "#Площадь кухни: \n",
    "\n",
    "data.plot(y = 'kitchen_area',kind = 'hist', bins = 10, range = (2,60), grid=True, figsize = (10,4), color = 'yellow')\n",
    "data['kitchen_area'].describe().round() #округлим площадь для лучшего восприятия "
   ]
  },
  {
   "cell_type": "markdown",
   "metadata": {},
   "source": [
    "Мы видим, что средний метраж кухонь составляет от 1 метра (вероятно это студии) до 20 метров. Объектов с кухнями от 20 до 40 метров также достаточно. Объектов с кухнями больше 40 метров значительно меньше, но они тоже есть. Максимальная площадь кухни составила 112 м кв.\n",
    "\n",
    "То есть получается, что основное предпочтение отдается объектам с кухнями площадью, примерно, 10 метров кв"
   ]
  },
  {
   "cell_type": "code",
   "execution_count": 49,
   "metadata": {},
   "outputs": [
    {
     "data": {
      "text/plain": [
       "count    21796.0\n",
       "mean        34.0\n",
       "std         22.0\n",
       "min          2.0\n",
       "25%         19.0\n",
       "50%         30.0\n",
       "75%         42.0\n",
       "max        410.0\n",
       "Name: living_area, dtype: float64"
      ]
     },
     "execution_count": 49,
     "metadata": {},
     "output_type": "execute_result"
    },
    {
     "data": {
      "image/png": "[encoded data removed]",
      "text/plain": [
       "<Figure size 576x288 with 1 Axes>"
      ]
     },
     "metadata": {
      "needs_background": "light"
     },
     "output_type": "display_data"
    }
   ],
   "source": [
    "#Жилая площадь: \n",
    "\n",
    "data.plot(y = 'living_area',kind = 'hist', bins = 30, range = (2,150), grid=True, figsize = (8,4), color = 'Orange')\n",
    "          \n",
    "data['living_area'].describe().round()          "
   ]
  },
  {
   "cell_type": "markdown",
   "metadata": {},
   "source": [
    "Здесь мы видим, что жилая площадь в объектах начинается с 2х метров, скорее всего это ошибка. \n",
    "\n",
    "В среднем жилая площадь \n",
    "составляет около 35 метров. Но также, встречаются и крупногабаритные объекты с жилой площадью свыше 100 метров.\n",
    "\n",
    "Здесь также очевидно, что явный перекос в сторону жилой площади около 20 кв м, что соответствует предыдущим выводам и подтверждает гипотезу о лидерстве на рынке объектов средней величины. "
   ]
  },
  {
   "cell_type": "code",
   "execution_count": 50,
   "metadata": {},
   "outputs": [
    {
     "data": {
      "text/plain": [
       "count    23699.0\n",
       "mean         3.0\n",
       "std          0.0\n",
       "min          3.0\n",
       "25%          3.0\n",
       "50%          3.0\n",
       "75%          3.0\n",
       "max          3.0\n",
       "Name: ceiling_height, dtype: float64"
      ]
     },
     "execution_count": 50,
     "metadata": {},
     "output_type": "execute_result"
    },
    {
     "data": {
      "image/png": "[encoded data removed]",
      "text/plain": [
       "<Figure size 648x216 with 1 Axes>"
      ]
     },
     "metadata": {
      "needs_background": "light"
     },
     "output_type": "display_data"
    }
   ],
   "source": [
    "#Изучим высоту потолков объектов:\n",
    "\n",
    "data.plot(y = 'ceiling_height', kind = 'hist', bins = 8, range = (2,5), grid=True, figsize = (9,3), color = 'green')\n",
    "data['ceiling_height'].describe().round()"
   ]
  },
  {
   "cell_type": "markdown",
   "metadata": {},
   "source": [
    "Большая часть объектов имеет стандартную высоту потолков, около 2,7 м"
   ]
  },
  {
   "cell_type": "code",
   "execution_count": 51,
   "metadata": {},
   "outputs": [
    {
     "data": {
      "text/plain": [
       "count    23699.0\n",
       "mean         6.0\n",
       "std          5.0\n",
       "min          1.0\n",
       "25%          2.0\n",
       "50%          4.0\n",
       "75%          8.0\n",
       "max         33.0\n",
       "Name: floor, dtype: float64"
      ]
     },
     "execution_count": 51,
     "metadata": {},
     "output_type": "execute_result"
    },
    {
     "data": {
      "image/png": "[encoded data removed]",
      "text/plain": [
       "<Figure size 1080x360 with 1 Axes>"
      ]
     },
     "metadata": {
      "needs_background": "light"
     },
     "output_type": "display_data"
    }
   ],
   "source": [
    "#Этаж объекта:\n",
    "\n",
    "data.plot(y = 'floor', kind = 'hist', bins = 30, range = (0,30), grid=True, figsize = (15,5), color = 'blue')\n",
    "data['floor'].describe().round()"
   ]
  },
  {
   "cell_type": "markdown",
   "metadata": {},
   "source": [
    "Основная масса объектов расположена в пределах до 5 этажа. \n",
    "\n",
    "Совершенно очевидно, что большая часть объектов расположена на нижних этажах - до 5го.\n",
    "Объекты от 5го до 10го наименее популярны но их тоже достаточно. \n",
    "Объекты же на этажах от 10 и выше существенно уступают по количеству на рынке."
   ]
  },
  {
   "cell_type": "code",
   "execution_count": 52,
   "metadata": {},
   "outputs": [
    {
     "data": {
      "text/plain": [
       "count      23616\n",
       "unique         3\n",
       "top       другие\n",
       "freq       17363\n",
       "Name: floor_category, dtype: object"
      ]
     },
     "execution_count": 52,
     "metadata": {},
     "output_type": "execute_result"
    },
    {
     "data": {
      "image/png": "[encoded data removed]",
      "text/plain": [
       "<Figure size 432x288 with 1 Axes>"
      ]
     },
     "metadata": {
      "needs_background": "light"
     },
     "output_type": "display_data"
    }
   ],
   "source": [
    "#Тип этажа квартиры:\n",
    "\n",
    "import seaborn\n",
    "\n",
    "for_x = data['floors_total'].tolist()\n",
    "for_y = data['floor_category'].tolist()\n",
    "\n",
    "seaborn.barplot(x = for_x,y = for_y)\n",
    "\n",
    "data['floor_category'].describe()"
   ]
  },
  {
   "cell_type": "markdown",
   "metadata": {},
   "source": [
    "Очевидно, что в объявлениях преобладают объекты не на первом и последнем этажах"
   ]
  },
  {
   "cell_type": "code",
   "execution_count": 53,
   "metadata": {},
   "outputs": [
    {
     "data": {
      "text/plain": [
       "count    23699.000000\n",
       "mean        10.635090\n",
       "std          6.616396\n",
       "min          0.000000\n",
       "25%          5.000000\n",
       "50%          9.000000\n",
       "75%         16.000000\n",
       "max         60.000000\n",
       "Name: floors_total, dtype: float64"
      ]
     },
     "execution_count": 53,
     "metadata": {},
     "output_type": "execute_result"
    },
    {
     "data": {
      "image/png": "[encoded data removed]",
      "text/plain": [
       "<Figure size 1440x360 with 1 Axes>"
      ]
     },
     "metadata": {
      "needs_background": "light"
     },
     "output_type": "display_data"
    }
   ],
   "source": [
    "#Количество этажей в доме:\n",
    "\n",
    "data.plot(y = 'floors_total', kind = 'hist', bins = 30, range = (0,35), grid=True, figsize = (20,5), color = 'violet')\n",
    "data['floors_total'].describe()"
   ]
  },
  {
   "cell_type": "markdown",
   "metadata": {},
   "source": [
    "Лидеры рынка - пятиэтажки. Собственно это объясняет почему максимум рынка расположен ДО 5 этажа. \n",
    "\n",
    "Малоэтажное строительство (до 3 эт.) и высокоэтажные объекты от 16ти эт. очевидно не очень популярны. Есть скачок среди 25 этажных объектов, но он безусловно уступает объектам от 5 до 8 этажей\n",
    "\n",
    "Также видим аномальное значение 0 - что не может быть, соответственно относим его к пропускам которые были в исходных данных"
   ]
  },
  {
   "cell_type": "code",
   "execution_count": 54,
   "metadata": {},
   "outputs": [
    {
     "data": {
      "text/plain": [
       "count    18180.0\n",
       "mean     13695.0\n",
       "std       8611.0\n",
       "min          0.0\n",
       "25%       9000.0\n",
       "50%      13000.0\n",
       "75%      16000.0\n",
       "max      65000.0\n",
       "Name: cityCenters_nearest_m, dtype: float64"
      ]
     },
     "execution_count": 54,
     "metadata": {},
     "output_type": "execute_result"
    },
    {
     "data": {
      "image/png": "[encoded data removed]",
      "text/plain": [
       "<Figure size 1080x360 with 1 Axes>"
      ]
     },
     "metadata": {
      "needs_background": "light"
     },
     "output_type": "display_data"
    }
   ],
   "source": [
    "#Расстояние в метрах до центра города: \n",
    "\n",
    "import numpy as np\n",
    "\n",
    "data['cityCenters_nearest_m'] = (data['cityCenters_nearest']*1000).apply(np.floor)\n",
    "\n",
    "data.plot(y = 'cityCenters_nearest_m', kind = 'hist', bins = 30, range = (0,60000), grid=True, figsize = (15,5), color = 'pink')\n",
    "data['cityCenters_nearest_m'].describe().round()  "
   ]
  },
  {
   "cell_type": "markdown",
   "metadata": {},
   "source": [
    "В пределах КАД, радиус Санкт - Петербурга составляет 32 км, таким образом основная масса объектов расположена в этой черте. \n",
    "Максимальная точка графика - указывает на расстояние 10 000 м от центра, то есть спасльные районы, расположенные вокруг центра СПб. \n",
    "Но часть пригородов выходящих за пределы, так же может являться частью СПб, а не Лен. областью\n",
    "\n",
    "Таким образом по типам распределения мы видим:\n",
    "\n",
    "Лидер - дальность от центра около 15 км -то есть это спальные районы в пределах КАД\n",
    "Средний показатель - около 7 км от центра это категория которую можно отнести к \"престижной\", то есть вероятно речь идет об объектах бизнес-класса и выше, а также о намывных территориях Васильевского острова. \n",
    "От 30 км видим спад, но здесь нужно учитывать сокращение оъектов многоквартирных и увеличение частного сектора, где меняются и общие показатели оличающиеся от основной вырисовывающейся гипотезы \"среднегабаритного жилья\""
   ]
  },
  {
   "cell_type": "code",
   "execution_count": 55,
   "metadata": {},
   "outputs": [
    {
     "data": {
      "text/plain": [
       "count    18157.000000\n",
       "mean        28.279451\n",
       "std         12.636555\n",
       "min          0.000000\n",
       "25%         18.000000\n",
       "50%         26.000000\n",
       "75%         37.000000\n",
       "max         84.000000\n",
       "Name: airports_nearest, dtype: float64"
      ]
     },
     "execution_count": 55,
     "metadata": {},
     "output_type": "execute_result"
    },
    {
     "data": {
      "image/png": "[encoded data removed]",
      "text/plain": [
       "<Figure size 1080x360 with 1 Axes>"
      ]
     },
     "metadata": {
      "needs_background": "light"
     },
     "output_type": "display_data"
    }
   ],
   "source": [
    "#Расстояние объекта до ближайшего аэропорта:\n",
    "\n",
    "import numpy as np\n",
    "\n",
    "data['airports_nearest'] = (data['airports_nearest']/1000).apply(np.floor) #переведем в километры\n",
    "\n",
    "data.plot(y = 'airports_nearest', kind = 'hist', bins = 30, range = (0,35), grid=True, figsize = (15,5), color = 'grey')\n",
    "\n",
    "data['airports_nearest'].describe()"
   ]
  },
  {
   "cell_type": "markdown",
   "metadata": {},
   "source": [
    "Согласно общим данным, две пиковые точки объектов находятся на расстоянии 15 и примерно 22 км от аэропорта Пулково. \n",
    "\n",
    "Нельзя утверждать, что это дальность от центра или спальных районов в черте КАД, также в список могут войти Пушкин, Павловск и другие населенные пункты входящие в черту СПб.\n",
    "\n",
    "Как мы видим распределение следующее:\n",
    "\n",
    "-Минимум это удаленность от аэропорта примерно 6 км, такое может быть тк разрешены постройки начиная от 3 км от аэропорта. \n",
    "- Средние точки находятся примерно на расстоянии 18 и 24 км от аэропорта - их сложно логически связать, вероятно это обусловленно плотностью застройки определенных районов\n",
    "- максимальная дальность 15 и примерно 22 км, что все же подтверждает увеличение рынка в более тихих районах."
   ]
  },
  {
   "cell_type": "code",
   "execution_count": 56,
   "metadata": {},
   "outputs": [
    {
     "data": {
      "text/plain": [
       "count    8079.0\n",
       "mean      491.0\n",
       "std       342.0\n",
       "min         1.0\n",
       "25%       288.0\n",
       "50%       455.0\n",
       "75%       612.0\n",
       "max      3190.0\n",
       "Name: parks_nearest, dtype: float64"
      ]
     },
     "execution_count": 56,
     "metadata": {},
     "output_type": "execute_result"
    },
    {
     "data": {
      "image/png": "[encoded data removed]",
      "text/plain": [
       "<Figure size 1080x360 with 1 Axes>"
      ]
     },
     "metadata": {
      "needs_background": "light"
     },
     "output_type": "display_data"
    }
   ],
   "source": [
    "#Расстояние объектов до ближайших парков:\n",
    "\n",
    "data.plot(y = 'parks_nearest', kind = 'hist', bins = 30, range = (0,3190), grid=True, figsize = (15,5), color = 'orange')\n",
    "\n",
    "data['parks_nearest'].describe().round()"
   ]
  },
  {
   "cell_type": "markdown",
   "metadata": {},
   "source": [
    "Здесь можно сделать следующий вывод:\n",
    "\n",
    "- Максимальная точка находится на расстоянии 500 м от объекта до парка, что вполне вероятно.\n",
    "- Обекты с близостью парка до 500 метров также представлены в довольно значительном количестве, но и объектов с дальностью парков в пределах до 700 метров достаточно много - обе категории можно отнести к среднему показателю\n",
    "- Минимальные же точки показывают объекты с дальностью от 1 км от парка, имея незначительный рост на показателях 1,8 км; 2,2 км и 2,3км\n",
    "\n"
   ]
  },
  {
   "cell_type": "code",
   "execution_count": 57,
   "metadata": {},
   "outputs": [
    {
     "data": {
      "text/plain": [
       "<AxesSubplot:ylabel='Frequency'>"
      ]
     },
     "execution_count": 57,
     "metadata": {},
     "output_type": "execute_result"
    },
    {
     "data": {
      "image/png": "[encoded data removed]",
      "text/plain": [
       "<Figure size 576x432 with 1 Axes>"
      ]
     },
     "metadata": {
      "needs_background": "light"
     },
     "output_type": "display_data"
    },
    {
     "data": {
      "image/png": "[encoded data removed]",
      "text/plain": [
       "<Figure size 864x432 with 1 Axes>"
      ]
     },
     "metadata": {
      "needs_background": "light"
     },
     "output_type": "display_data"
    }
   ],
   "source": [
    "#Наиболее популярные день и месяц для публикации объявлений:\n",
    "\n",
    "data.plot(y = 'day_of_publication', kind = 'hist', bins = 20, range = (1,7), grid=True, figsize = (8,6), color = 'blue')\n",
    "data.plot(y = 'month_of_publication', kind = 'hist', bins = 10, range = (0,12), grid=True, figsize = (12,6), color = 'green')\n"
   ]
  },
  {
   "cell_type": "markdown",
   "metadata": {},
   "source": [
    "Как мы видим самыми популярными днями размещения являются: понедельник и среда. Также имеет значение четверг - показатель меньше предыдущих но он значительный.\n",
    "А вот ближе к пятнице люди вероятно думают о выходных, что дает значительное падение публикаций. Также и в субботу. В воскресенье и вовсе большинству не до объявлений.\n",
    "\n",
    "Что касается месяца, то к концу года наблюдается увеличение предложений. Начало года и конец весны имеют явный спад. Это может быть обусловлено следующими факторами:\n",
    "\n",
    "Январь это посленовогодний период, когда многие еще заняты предыдущими праздничными расходами. Тем более многие пользуютс каникулами для отъезда.\n",
    "\n",
    "Февраль, март и апрель - показывают рост рынка, который снижается в мае, что возможно также обусловлено длянными каникулами и массовыми отъездами.\n",
    "\n",
    "Июнь и июль показывают резкий рост - возможно летнее время и отпуск многие используют для последующего после покупки недвижимости ремонта или более свободных просмотров объектов.\n",
    "\n",
    "Август - ноябрь заметен спокойный и стабильный рост\n",
    "\n",
    "Декабрь  - показывает резкий скачок, возможно это можно связать с традиционным ростом кредитных предложений в конце года."
   ]
  },
  {
   "cell_type": "code",
   "execution_count": 58,
   "metadata": {},
   "outputs": [
    {
     "data": {
      "text/plain": [
       "count    23699.0\n",
       "mean       157.0\n",
       "std        214.0\n",
       "min          0.0\n",
       "25%         22.0\n",
       "50%         74.0\n",
       "75%        199.0\n",
       "max       1580.0\n",
       "Name: days_exposition, dtype: float64"
      ]
     },
     "execution_count": 58,
     "metadata": {},
     "output_type": "execute_result"
    }
   ],
   "source": [
    "#Как быстро продавались квартиры с момента публикации:\n",
    "\n",
    "data['days_exposition'].describe().round()"
   ]
  },
  {
   "cell_type": "code",
   "execution_count": 59,
   "metadata": {},
   "outputs": [
    {
     "name": "stdout",
     "output_type": "stream",
     "text": [
      "157.0\n",
      "74.0\n"
     ]
    },
    {
     "data": {
      "image/png": "[encoded data removed]",
      "text/plain": [
       "<Figure size 432x288 with 1 Axes>"
      ]
     },
     "metadata": {
      "needs_background": "light"
     },
     "output_type": "display_data"
    },
    {
     "data": {
      "image/png": "[encoded data removed]",
      "text/plain": [
       "<Figure size 864x432 with 1 Axes>"
      ]
     },
     "metadata": {
      "needs_background": "light"
     },
     "output_type": "display_data"
    }
   ],
   "source": [
    "import matplotlib.pyplot as plt\n",
    "plt.boxplot(data[data['days_exposition']!=0]['days_exposition'])\n",
    "plt.ylim(1,600)\n",
    "\n",
    "data.plot(y = 'days_exposition', kind = 'hist', bins = 30, grid = True, range = (1,1500),figsize = (12,6), color = 'pink')\n",
    "\n",
    "\n",
    "print(data['days_exposition'].mean().round()) \n",
    "print(data['days_exposition'].median()) "
   ]
  },
  {
   "cell_type": "markdown",
   "metadata": {},
   "source": [
    "Поскольку медианное значение вдвое выше среднего, можно отнести это к наличию лидеров значений - слишком длительный срок (1580 дней) или слишком короткий (0 дней)\n",
    "\n",
    "Чтобы получить более точные данные \"зачистим данные\" от анамальных значений."
   ]
  },
  {
   "cell_type": "code",
   "execution_count": 60,
   "metadata": {},
   "outputs": [
    {
     "data": {
      "text/plain": [
       "45     880\n",
       "60     538\n",
       "7      234\n",
       "30     208\n",
       "90     204\n",
       "      ... \n",
       "247     13\n",
       "242     12\n",
       "243     10\n",
       "2        3\n",
       "1        1\n",
       "Name: days_exposition, Length: 250, dtype: int64"
      ]
     },
     "execution_count": 60,
     "metadata": {},
     "output_type": "execute_result"
    },
    {
     "data": {
      "image/png": "[encoded data removed]",
      "text/plain": [
       "<Figure size 432x288 with 1 Axes>"
      ]
     },
     "metadata": {
      "needs_background": "light"
     },
     "output_type": "display_data"
    },
    {
     "data": {
      "image/png": "[encoded data removed]",
      "text/plain": [
       "<Figure size 864x432 with 1 Axes>"
      ]
     },
     "metadata": {
      "needs_background": "light"
     },
     "output_type": "display_data"
    }
   ],
   "source": [
    "days_exposition_correct = data.query('days_exposition != 1400 and days_exposition != 0 and days_exposition <= 250')\n",
    "\n",
    "\n",
    "plt.boxplot(days_exposition_correct['days_exposition'])\n",
    "plt.ylim(1,250)\n",
    "\n",
    "data.plot(y = 'days_exposition', kind = 'hist', bins = 30, grid = True, range = (1,100),figsize = (12,6), color = 'violet')\n",
    "\n",
    "days_exposition_correct['days_exposition'].value_counts()\n"
   ]
  },
  {
   "cell_type": "markdown",
   "metadata": {},
   "source": [
    "Мы косвенно подтвердили полученные ранее данные и убедились, что средний срок актуальности объявления составил - около 45 дней.\n",
    "\n",
    "Но более детально можно увидеть, что:\n",
    "\n",
    "- Основная масса публикаций не превышает 45 дней, это вполне хороший показатель и это можно отнести -  быстрым продажам\n",
    "- Средние значения относятся к показателям до 90 дней. По сути, продажа объекта в период до трех месяцев - это неплохой результат. \n",
    "- В пике до 10 дней могут встретиться недостоверные значения то есть 0 заглушка пропусков. \n",
    "- Показатели свыше 100 дней стремятся к уменьшению. Возможно речь идет о \"забытых\" объявлениях или о сложных объектах\n",
    "\n",
    "Но поскольку мы прибегаем к методу построения boxplot то, только подтверждаем увиденное на гистограмме: вбросы отсутствуют массово, есть редкие значения но их не так много. Медиана же подтверждает мысль о том, что 50 это самый популярны срок публикации, совсем немного его сдвигает к увеличению показатель 60 дней. "
   ]
  },
  {
   "cell_type": "code",
   "execution_count": 61,
   "metadata": {},
   "outputs": [
    {
     "data": {
      "text/plain": [
       "0.6536750579657242"
      ]
     },
     "execution_count": 61,
     "metadata": {},
     "output_type": "execute_result"
    },
    {
     "data": {
      "image/png": "[encoded data removed]",
      "text/plain": [
       "<Figure size 432x288 with 1 Axes>"
      ]
     },
     "metadata": {
      "needs_background": "light"
     },
     "output_type": "display_data"
    }
   ],
   "source": [
    "#Как на стоимость объекта влияет общая площадь:\n",
    "\n",
    "total_area_pt = data.pivot_table(index = 'total_area', values = 'last_price', aggfunc = ['mean', 'count', 'median'])\n",
    "total_area_pt.columns = ['mean', 'count', 'median']\n",
    "total_area_pt.plot(y = 'median', style = 'o', color = 'green')\n",
    "\n",
    "total_area_pt.sort_values('median', ascending = False)\n",
    "\n",
    "data['total_area'].corr(data['last_price'])\n",
    "\n"
   ]
  },
  {
   "cell_type": "markdown",
   "metadata": {},
   "source": [
    "Корреляция Пирсона положительная, и превышает 0,5 а значит стоит считать, что размер объекта  влияет на его стоимость."
   ]
  },
  {
   "cell_type": "code",
   "execution_count": 62,
   "metadata": {},
   "outputs": [
    {
     "data": {
      "text/plain": [
       "0.5664915336952651"
      ]
     },
     "execution_count": 62,
     "metadata": {},
     "output_type": "execute_result"
    },
    {
     "data": {
      "image/png": "[encoded data removed]",
      "text/plain": [
       "<Figure size 432x288 with 1 Axes>"
      ]
     },
     "metadata": {
      "needs_background": "light"
     },
     "output_type": "display_data"
    }
   ],
   "source": [
    "#Как на стоимость объекта влияет его жилая площадь:\n",
    "\n",
    "living_area_pt = data.pivot_table(index = 'living_area', values = 'last_price', aggfunc = ['mean', 'count', 'median'])\n",
    "living_area_pt.columns = ['mean', 'count', 'median']\n",
    "living_area_pt.plot(y = 'median', style = 'o', color = 'orange')\n",
    "\n",
    "living_area_pt.sort_values('median', ascending = False)\n",
    "\n",
    "data['living_area'].corr(data['last_price'])"
   ]
  },
  {
   "cell_type": "markdown",
   "metadata": {},
   "source": [
    "Здесь корреляция еще ниже, предыдущего примера но она тоже выше, чем 0.5. Делаем вывод, что жилая площадь также влияет на стоимость объекта."
   ]
  },
  {
   "cell_type": "code",
   "execution_count": 63,
   "metadata": {},
   "outputs": [
    {
     "data": {
      "text/plain": [
       "0.5198690130216392"
      ]
     },
     "execution_count": 63,
     "metadata": {},
     "output_type": "execute_result"
    },
    {
     "data": {
      "image/png": "[encoded data removed]",
      "text/plain": [
       "<Figure size 432x288 with 1 Axes>"
      ]
     },
     "metadata": {
      "needs_background": "light"
     },
     "output_type": "display_data"
    }
   ],
   "source": [
    "#Как на стоимость объекта влияет площадь кухни:\n",
    "\n",
    "kitchen_area_pt = data.pivot_table(index = 'kitchen_area', values = 'last_price', aggfunc = ['mean', 'count', 'median'])\n",
    "kitchen_area_pt.columns = ['mean', 'count', 'median']\n",
    "kitchen_area_pt.plot(y = 'median', style = 'o', color = 'blue')\n",
    "\n",
    "kitchen_area_pt.sort_values('median', ascending = False)\n",
    "\n",
    "data['kitchen_area'].corr(data['last_price'])"
   ]
  },
  {
   "cell_type": "markdown",
   "metadata": {},
   "source": [
    "Говорят, что женщина в среднем проводит 18 лет совей жизни на кухне. Возможно поэтому покупатели хотят иметь вместительные кухни. И соответственно здесь лучше учесть влияние на стоимость объекта в целом."
   ]
  },
  {
   "cell_type": "code",
   "execution_count": 64,
   "metadata": {},
   "outputs": [
    {
     "data": {
      "text/plain": [
       "0.3633428499648948"
      ]
     },
     "execution_count": 64,
     "metadata": {},
     "output_type": "execute_result"
    },
    {
     "data": {
      "image/png": "[encoded data removed]",
      "text/plain": [
       "<Figure size 432x288 with 1 Axes>"
      ]
     },
     "metadata": {
      "needs_background": "light"
     },
     "output_type": "display_data"
    }
   ],
   "source": [
    "#Как на стоимость объекта влияет количество комнат:\n",
    "\n",
    "rooms_pt = data.pivot_table(index = 'rooms', values = 'last_price', aggfunc = ['mean', 'count', 'median'])\n",
    "rooms_pt.columns = ['mean', 'count', 'median']\n",
    "rooms_pt.plot(y = 'median', style = 'o', color = 'red')\n",
    "\n",
    "rooms_pt.sort_values('median', ascending = False)\n",
    "\n",
    "data['rooms'].corr(data['last_price'])"
   ]
  },
  {
   "cell_type": "markdown",
   "metadata": {},
   "source": [
    "Количество комнат не так сильно учитывается при определении стоимости объекта. Вероятно, потому что отталкивается от стоимости м кв, а не от этого параметра."
   ]
  },
  {
   "cell_type": "code",
   "execution_count": 70,
   "metadata": {},
   "outputs": [
    {
     "data": {
      "text/plain": [
       "0.0026375725993058206"
      ]
     },
     "execution_count": 70,
     "metadata": {},
     "output_type": "execute_result"
    }
   ],
   "source": [
    "#Как на стоимость объекта влияет этаж на котором он расположен:\n",
    "\n",
    "for_y = data['floor_category'].tolist()\n",
    "\n",
    "# floor_category_pt = data.pivot_table(index = for_y, values = 'last_price', aggfunc = ['mean', 'count', 'median'])\n",
    "# floor_category_pt.columns = ['mean', 'count', 'median']\n",
    "# floor_category_pt.plot(y = 'median')\n",
    "\n",
    "# floor_category_pt.sort_values('median', ascending = False)\n",
    "\n",
    "# data['floor_category'].corr(data['last_price'])\n",
    "\n",
    "\n",
    "label_encoder = LabelEncoder()\n",
    "\n",
    "data['floor_category_encoded'] = label_encoder.fit_transform(data['floor_category'])\n",
    "\n",
    "correlation = data['floor_category_encoded'].corr(data['last_price'])\n",
    "\n",
    "correlation"
   ]
  },
  {
   "cell_type": "code",
   "execution_count": 71,
   "metadata": {},
   "outputs": [],
   "source": [
    "data.drop('floor_category_encoded', axis=1, inplace=True)"
   ]
  },
  {
   "cell_type": "code",
   "execution_count": 72,
   "metadata": {},
   "outputs": [
    {
     "data": {
      "text/html": [
       "<div>\n",
       "<style scoped>\n",
       "    .dataframe tbody tr th:only-of-type {\n",
       "        vertical-align: middle;\n",
       "    }\n",
       "\n",
       "    .dataframe tbody tr th {\n",
       "        vertical-align: top;\n",
       "    }\n",
       "\n",
       "    .dataframe thead th {\n",
       "        text-align: right;\n",
       "    }\n",
       "</style>\n",
       "<table border=\"1\" class=\"dataframe\">\n",
       "  <thead>\n",
       "    <tr style=\"text-align: right;\">\n",
       "      <th></th>\n",
       "      <th>mean</th>\n",
       "      <th>count</th>\n",
       "      <th>median</th>\n",
       "    </tr>\n",
       "    <tr>\n",
       "      <th>day_of_publication</th>\n",
       "      <th></th>\n",
       "      <th></th>\n",
       "      <th></th>\n",
       "    </tr>\n",
       "  </thead>\n",
       "  <tbody>\n",
       "    <tr>\n",
       "      <th>1</th>\n",
       "      <td>6394233.0</td>\n",
       "      <td>4183</td>\n",
       "      <td>4730000</td>\n",
       "    </tr>\n",
       "    <tr>\n",
       "      <th>2</th>\n",
       "      <td>6627970.0</td>\n",
       "      <td>3974</td>\n",
       "      <td>4700000</td>\n",
       "    </tr>\n",
       "    <tr>\n",
       "      <th>0</th>\n",
       "      <td>6511613.0</td>\n",
       "      <td>3612</td>\n",
       "      <td>4650000</td>\n",
       "    </tr>\n",
       "    <tr>\n",
       "      <th>3</th>\n",
       "      <td>6708663.0</td>\n",
       "      <td>4295</td>\n",
       "      <td>4650000</td>\n",
       "    </tr>\n",
       "    <tr>\n",
       "      <th>4</th>\n",
       "      <td>6372131.0</td>\n",
       "      <td>4000</td>\n",
       "      <td>4585000</td>\n",
       "    </tr>\n",
       "    <tr>\n",
       "      <th>5</th>\n",
       "      <td>6976804.0</td>\n",
       "      <td>1936</td>\n",
       "      <td>4555000</td>\n",
       "    </tr>\n",
       "    <tr>\n",
       "      <th>6</th>\n",
       "      <td>6246180.0</td>\n",
       "      <td>1699</td>\n",
       "      <td>4550000</td>\n",
       "    </tr>\n",
       "  </tbody>\n",
       "</table>\n",
       "</div>"
      ],
      "text/plain": [
       "                         mean  count   median\n",
       "day_of_publication                           \n",
       "1                   6394233.0   4183  4730000\n",
       "2                   6627970.0   3974  4700000\n",
       "0                   6511613.0   3612  4650000\n",
       "3                   6708663.0   4295  4650000\n",
       "4                   6372131.0   4000  4585000\n",
       "5                   6976804.0   1936  4555000\n",
       "6                   6246180.0   1699  4550000"
      ]
     },
     "metadata": {},
     "output_type": "display_data"
    },
    {
     "data": {
      "text/html": [
       "<div>\n",
       "<style scoped>\n",
       "    .dataframe tbody tr th:only-of-type {\n",
       "        vertical-align: middle;\n",
       "    }\n",
       "\n",
       "    .dataframe tbody tr th {\n",
       "        vertical-align: top;\n",
       "    }\n",
       "\n",
       "    .dataframe thead th {\n",
       "        text-align: right;\n",
       "    }\n",
       "</style>\n",
       "<table border=\"1\" class=\"dataframe\">\n",
       "  <thead>\n",
       "    <tr style=\"text-align: right;\">\n",
       "      <th></th>\n",
       "      <th>mean</th>\n",
       "      <th>count</th>\n",
       "      <th>median</th>\n",
       "    </tr>\n",
       "    <tr>\n",
       "      <th>month_of_publication</th>\n",
       "      <th></th>\n",
       "      <th></th>\n",
       "      <th></th>\n",
       "    </tr>\n",
       "  </thead>\n",
       "  <tbody>\n",
       "    <tr>\n",
       "      <th>4</th>\n",
       "      <td>6737198.0</td>\n",
       "      <td>2379</td>\n",
       "      <td>4800000</td>\n",
       "    </tr>\n",
       "    <tr>\n",
       "      <th>9</th>\n",
       "      <td>6825470.0</td>\n",
       "      <td>1981</td>\n",
       "      <td>4700000</td>\n",
       "    </tr>\n",
       "    <tr>\n",
       "      <th>11</th>\n",
       "      <td>6461363.0</td>\n",
       "      <td>2371</td>\n",
       "      <td>4700000</td>\n",
       "    </tr>\n",
       "    <tr>\n",
       "      <th>12</th>\n",
       "      <td>7011731.0</td>\n",
       "      <td>1641</td>\n",
       "      <td>4700000</td>\n",
       "    </tr>\n",
       "    <tr>\n",
       "      <th>2</th>\n",
       "      <td>6468500.0</td>\n",
       "      <td>2640</td>\n",
       "      <td>4650000</td>\n",
       "    </tr>\n",
       "    <tr>\n",
       "      <th>3</th>\n",
       "      <td>6359275.0</td>\n",
       "      <td>2587</td>\n",
       "      <td>4650000</td>\n",
       "    </tr>\n",
       "    <tr>\n",
       "      <th>7</th>\n",
       "      <td>6649337.0</td>\n",
       "      <td>1695</td>\n",
       "      <td>4650000</td>\n",
       "    </tr>\n",
       "    <tr>\n",
       "      <th>1</th>\n",
       "      <td>6668233.0</td>\n",
       "      <td>1500</td>\n",
       "      <td>4600000</td>\n",
       "    </tr>\n",
       "    <tr>\n",
       "      <th>8</th>\n",
       "      <td>6350233.0</td>\n",
       "      <td>1744</td>\n",
       "      <td>4570000</td>\n",
       "    </tr>\n",
       "    <tr>\n",
       "      <th>10</th>\n",
       "      <td>6235013.0</td>\n",
       "      <td>2127</td>\n",
       "      <td>4570000</td>\n",
       "    </tr>\n",
       "    <tr>\n",
       "      <th>5</th>\n",
       "      <td>6600435.0</td>\n",
       "      <td>1274</td>\n",
       "      <td>4515000</td>\n",
       "    </tr>\n",
       "    <tr>\n",
       "      <th>6</th>\n",
       "      <td>6310269.0</td>\n",
       "      <td>1760</td>\n",
       "      <td>4400000</td>\n",
       "    </tr>\n",
       "  </tbody>\n",
       "</table>\n",
       "</div>"
      ],
      "text/plain": [
       "                           mean  count   median\n",
       "month_of_publication                           \n",
       "4                     6737198.0   2379  4800000\n",
       "9                     6825470.0   1981  4700000\n",
       "11                    6461363.0   2371  4700000\n",
       "12                    7011731.0   1641  4700000\n",
       "2                     6468500.0   2640  4650000\n",
       "3                     6359275.0   2587  4650000\n",
       "7                     6649337.0   1695  4650000\n",
       "1                     6668233.0   1500  4600000\n",
       "8                     6350233.0   1744  4570000\n",
       "10                    6235013.0   2127  4570000\n",
       "5                     6600435.0   1274  4515000\n",
       "6                     6310269.0   1760  4400000"
      ]
     },
     "metadata": {},
     "output_type": "display_data"
    },
    {
     "data": {
      "text/html": [
       "<div>\n",
       "<style scoped>\n",
       "    .dataframe tbody tr th:only-of-type {\n",
       "        vertical-align: middle;\n",
       "    }\n",
       "\n",
       "    .dataframe tbody tr th {\n",
       "        vertical-align: top;\n",
       "    }\n",
       "\n",
       "    .dataframe thead th {\n",
       "        text-align: right;\n",
       "    }\n",
       "</style>\n",
       "<table border=\"1\" class=\"dataframe\">\n",
       "  <thead>\n",
       "    <tr style=\"text-align: right;\">\n",
       "      <th></th>\n",
       "      <th>mean</th>\n",
       "      <th>count</th>\n",
       "      <th>median</th>\n",
       "    </tr>\n",
       "    <tr>\n",
       "      <th>year_of_publication</th>\n",
       "      <th></th>\n",
       "      <th></th>\n",
       "      <th></th>\n",
       "    </tr>\n",
       "  </thead>\n",
       "  <tbody>\n",
       "    <tr>\n",
       "      <th>2014</th>\n",
       "      <td>12087136.0</td>\n",
       "      <td>137</td>\n",
       "      <td>7700000</td>\n",
       "    </tr>\n",
       "    <tr>\n",
       "      <th>2015</th>\n",
       "      <td>8572833.0</td>\n",
       "      <td>1191</td>\n",
       "      <td>5350000</td>\n",
       "    </tr>\n",
       "    <tr>\n",
       "      <th>2019</th>\n",
       "      <td>6782388.0</td>\n",
       "      <td>2879</td>\n",
       "      <td>5050000</td>\n",
       "    </tr>\n",
       "    <tr>\n",
       "      <th>2016</th>\n",
       "      <td>6827912.0</td>\n",
       "      <td>2783</td>\n",
       "      <td>4550000</td>\n",
       "    </tr>\n",
       "    <tr>\n",
       "      <th>2018</th>\n",
       "      <td>5950966.0</td>\n",
       "      <td>8519</td>\n",
       "      <td>4550000</td>\n",
       "    </tr>\n",
       "    <tr>\n",
       "      <th>2017</th>\n",
       "      <td>6585729.0</td>\n",
       "      <td>8190</td>\n",
       "      <td>4500000</td>\n",
       "    </tr>\n",
       "  </tbody>\n",
       "</table>\n",
       "</div>"
      ],
      "text/plain": [
       "                           mean  count   median\n",
       "year_of_publication                            \n",
       "2014                 12087136.0    137  7700000\n",
       "2015                  8572833.0   1191  5350000\n",
       "2019                  6782388.0   2879  5050000\n",
       "2016                  6827912.0   2783  4550000\n",
       "2018                  5950966.0   8519  4550000\n",
       "2017                  6585729.0   8190  4500000"
      ]
     },
     "metadata": {},
     "output_type": "display_data"
    },
    {
     "data": {
      "image/png": "[encoded data removed]",
      "text/plain": [
       "<Figure size 432x288 with 1 Axes>"
      ]
     },
     "metadata": {
      "needs_background": "light"
     },
     "output_type": "display_data"
    },
    {
     "data": {
      "image/png": "[encoded data removed]",
      "text/plain": [
       "<Figure size 432x288 with 1 Axes>"
      ]
     },
     "metadata": {
      "needs_background": "light"
     },
     "output_type": "display_data"
    },
    {
     "data": {
      "image/png": "[encoded data removed]",
      "text/plain": [
       "<Figure size 432x288 with 1 Axes>"
      ]
     },
     "metadata": {
      "needs_background": "light"
     },
     "output_type": "display_data"
    }
   ],
   "source": [
    "#Как на стоимость объекта влияет дата размещения объявления (день недели, месяц, год):\n",
    "\n",
    "day_of_publication_pt = data.pivot_table(index = 'day_of_publication', values = 'last_price', aggfunc = ['mean', 'count', 'median'])\n",
    "day_of_publication_pt.columns = ['mean', 'count', 'median']\n",
    "day_of_publication_pt.plot(y = 'median',color = 'green')\n",
    "\n",
    "display(day_of_publication_pt.sort_values('median', ascending = False).round())\n",
    "\n",
    "\n",
    "month_of_publication_pt = data.pivot_table(index = 'month_of_publication', values = 'last_price', aggfunc = ['mean', 'count', 'median'])\n",
    "month_of_publication_pt.columns = ['mean', 'count', 'median']\n",
    "month_of_publication_pt.plot(y = 'median', color = 'red')\n",
    "\n",
    "display(month_of_publication_pt.sort_values('median', ascending = False).round())\n",
    "\n",
    "\n",
    "\n",
    "year_of_publication_pt = data.pivot_table(index = 'year_of_publication', values = 'last_price', aggfunc = ['mean', 'count', 'median'])\n",
    "year_of_publication_pt.columns = ['mean', 'count', 'median']\n",
    "year_of_publication_pt.plot(y = 'median',color = 'blue')\n",
    "\n",
    "display(year_of_publication_pt.sort_values('median', ascending = False).round())\n"
   ]
  },
  {
   "cell_type": "markdown",
   "metadata": {},
   "source": [
    "День публикации - объекты опубликованные в начале недели (максимум до среды) продаются быстрее\n",
    "Месяц публикации - самую высокую точку имеют объекты апреля - а рост и стабильность показывают объекты ноября и декабря\n",
    "После 2014 года наблюдается откровенный кризис рынка, но последующий начальный рост в 2019 году\n"
   ]
  },
  {
   "cell_type": "code",
   "execution_count": 73,
   "metadata": {},
   "outputs": [
    {
     "data": {
      "text/html": [
       "<div>\n",
       "<style scoped>\n",
       "    .dataframe tbody tr th:only-of-type {\n",
       "        vertical-align: middle;\n",
       "    }\n",
       "\n",
       "    .dataframe tbody tr th {\n",
       "        vertical-align: top;\n",
       "    }\n",
       "\n",
       "    .dataframe thead th {\n",
       "        text-align: right;\n",
       "    }\n",
       "</style>\n",
       "<table border=\"1\" class=\"dataframe\">\n",
       "  <thead>\n",
       "    <tr style=\"text-align: right;\">\n",
       "      <th></th>\n",
       "      <th>count</th>\n",
       "      <th>mean</th>\n",
       "    </tr>\n",
       "    <tr>\n",
       "      <th>locality_name</th>\n",
       "      <th></th>\n",
       "      <th></th>\n",
       "    </tr>\n",
       "  </thead>\n",
       "  <tbody>\n",
       "    <tr>\n",
       "      <th>санкт-петербург</th>\n",
       "      <td>15721</td>\n",
       "      <td>114849.008794</td>\n",
       "    </tr>\n",
       "  </tbody>\n",
       "</table>\n",
       "</div>"
      ],
      "text/plain": [
       "                 count           mean\n",
       "locality_name                        \n",
       "санкт-петербург  15721  114849.008794"
      ]
     },
     "metadata": {},
     "output_type": "display_data"
    },
    {
     "data": {
      "text/html": [
       "<div>\n",
       "<style scoped>\n",
       "    .dataframe tbody tr th:only-of-type {\n",
       "        vertical-align: middle;\n",
       "    }\n",
       "\n",
       "    .dataframe tbody tr th {\n",
       "        vertical-align: top;\n",
       "    }\n",
       "\n",
       "    .dataframe thead th {\n",
       "        text-align: right;\n",
       "    }\n",
       "</style>\n",
       "<table border=\"1\" class=\"dataframe\">\n",
       "  <thead>\n",
       "    <tr style=\"text-align: right;\">\n",
       "      <th></th>\n",
       "      <th>count</th>\n",
       "      <th>mean</th>\n",
       "    </tr>\n",
       "    <tr>\n",
       "      <th>locality_name</th>\n",
       "      <th></th>\n",
       "      <th></th>\n",
       "    </tr>\n",
       "  </thead>\n",
       "  <tbody>\n",
       "    <tr>\n",
       "      <th>выборг</th>\n",
       "      <td>237</td>\n",
       "      <td>58141.909153</td>\n",
       "    </tr>\n",
       "  </tbody>\n",
       "</table>\n",
       "</div>"
      ],
      "text/plain": [
       "               count          mean\n",
       "locality_name                     \n",
       "выборг           237  58141.909153"
      ]
     },
     "metadata": {},
     "output_type": "display_data"
    }
   ],
   "source": [
    "#Средняя стоимость одного кв м населенных пунктов с максимальным количеством объявлений:\n",
    "\n",
    "locality_name_pt = data.pivot_table(index = 'locality_name', values = 'cost_square_meter', aggfunc=['count', 'mean'])\n",
    "locality_name_pt.columns = ['count', 'mean']\n",
    "locality_name_pt = locality_name_pt.sort_values('count', ascending = False).head(10)\n",
    "\n",
    "\n",
    "display(locality_name_pt[locality_name_pt['mean']==locality_name_pt['mean'].max()]) #максимальная стоимость составляет\n",
    "\n",
    "display(locality_name_pt[locality_name_pt['mean']==locality_name_pt['mean'].min()]) #минимальная стоимость составляет"
   ]
  },
  {
   "cell_type": "markdown",
   "metadata": {},
   "source": [
    "Лидером стоимости за 1 кв м стал Санкт - Петербург, средняя цена по рынку за исследуемый период составила 114 850 руб., а Выборг стал самым доступным, показав стоимость 58 150 руб."
   ]
  },
  {
   "cell_type": "code",
   "execution_count": 77,
   "metadata": {},
   "outputs": [
    {
     "data": {
      "text/plain": [
       "count     23699.000000\n",
       "mean     232889.297186\n",
       "std      422668.513575\n",
       "min           0.000000\n",
       "25%          10.000000\n",
       "50%          14.000000\n",
       "75%          35.000000\n",
       "max      999999.000000\n",
       "Name: cityCenters_km_price, dtype: float64"
      ]
     },
     "execution_count": 77,
     "metadata": {},
     "output_type": "execute_result"
    }
   ],
   "source": [
    "#Средняя стоимость каждого километра до центра, объектов в СПб:\n",
    "\n",
    "# data['cityCenters_km_price'] = data['cityCenters_nearest']\n",
    "# data['cityCenters_km_price'] = data['cityCenters_km_price'].fillna(999999)\n",
    "# data['cityCenters_km_price'] = data['cityCenters_km_price'].astype('int')\n",
    "# km_price_pt = data.query('locality_name == \"Санкт-Петербург\" and cityCenters_km_price != 999999').pivot_table(index = 'cityCenters_km_price', values = 'cost_square_meter', aggfunc = 'mean')\n",
    "# km_price_pt.plot(color = 'orange')\n",
    "\n",
    "spb_data = data[(data['locality_name'] == 'Санкт-Петербург') & (data['cityCenters_km_price'] != 999999)]\n",
    "km_price_pt = spb_data[spb_data['cityCenters_km_price'] != 999999].groupby('cityCenters_km_price')['cost_square_meter'].mean()\n",
    "\n",
    "data['cityCenters_km_price'].describe()"
   ]
  },
  {
   "cell_type": "markdown",
   "metadata": {},
   "source": [
    "### Общий вывод\n",
    "\n",
    "Изучив представленные данные можно сделать следующие выводы:\n",
    "\n",
    "Некоторые данные нуждались в доработке. С этой целью, были очищены от анамальных значений и пропусков одни столбцы и добавлены другие столбцы с уточняющей информацией, например: \n",
    "\n",
    "* 'cost_square_meter' - рассчет стоимости м кв\n",
    "\n",
    "* 'day_of_publication' - день недели публикации\n",
    "\n",
    "* 'month_of_publication' - месяц публикации\n",
    "\n",
    "* 'year_of_publication' - год публикации\n",
    "\n",
    "Исследование характеристик объектов показало, что большая часть объектов имеет:\n",
    "\n",
    "Высота потолков  стандартная - около 2,7 м\n",
    "Общая площадь до 100 м кв\n",
    "Площадь кухни от 20 до 40 м кв\n",
    "Жилая площадь около 35 м кв\n",
    "Чаще всего объект расположен на среднем этаже\n",
    "Объект расположен в радиусе 10 км от центра\n",
    "Примерно в 18.5 км от аэропорта\n",
    "В пределе 500 м до ближайшего парка \n",
    "\n",
    "\n",
    "Статистика размещения объявлений показала, что:\n",
    "\n",
    "В понедельник и среду чаще всего публикуют объявления\n",
    "В конце года значительный рост предложений\n",
    "Начало года и конец весны имеют явный спад\n",
    "Средний срок актуальности объявления составил - около 50 дней\n",
    "\n",
    "А также:\n",
    "\n",
    "Что жилая площадь также влияет на стоимость объекта\n",
    "Покупатели хотят иметь вместительные кухни. И готовы доплатить за это\n",
    "Количество комнат не влияет на общую стоимость объекта\n",
    "Городом с самым большим количеством объявлений является: Выборг\n",
    "\n"
   ]
  }
 ],
 "metadata": {
  "ExecuteTimeLog": [
   {
    "duration": 1495,
    "start_time": "2022-09-04T10:28:25.258Z"
   },
   {
    "duration": 110,
    "start_time": "2022-09-04T10:29:41.830Z"
   },
   {
    "duration": 101,
    "start_time": "2022-09-04T10:30:35.125Z"
   },
   {
    "duration": 2201,
    "start_time": "2022-09-04T10:30:44.059Z"
   },
   {
    "duration": 17231,
    "start_time": "2022-09-04T10:35:04.314Z"
   },
   {
    "duration": 2286,
    "start_time": "2022-09-04T10:35:30.965Z"
   },
   {
    "duration": 22,
    "start_time": "2022-09-04T10:56:54.831Z"
   },
   {
    "duration": 8,
    "start_time": "2022-09-04T10:57:49.034Z"
   },
   {
    "duration": 52,
    "start_time": "2022-09-04T11:43:19.171Z"
   },
   {
    "duration": 15,
    "start_time": "2022-09-04T11:44:04.597Z"
   },
   {
    "duration": 9,
    "start_time": "2022-09-04T11:44:32.241Z"
   },
   {
    "duration": 12,
    "start_time": "2022-09-04T11:44:47.445Z"
   },
   {
    "duration": 9,
    "start_time": "2022-09-04T11:44:51.502Z"
   },
   {
    "duration": 1042,
    "start_time": "2022-09-04T11:48:30.057Z"
   },
   {
    "duration": 7,
    "start_time": "2022-09-04T11:48:51.153Z"
   },
   {
    "duration": 9,
    "start_time": "2022-09-04T11:51:43.344Z"
   },
   {
    "duration": 249,
    "start_time": "2022-09-04T11:52:10.412Z"
   },
   {
    "duration": 16,
    "start_time": "2022-09-04T11:52:36.157Z"
   },
   {
    "duration": 8,
    "start_time": "2022-09-04T11:52:57.976Z"
   },
   {
    "duration": 54,
    "start_time": "2022-09-04T11:53:18.993Z"
   },
   {
    "duration": 8,
    "start_time": "2022-09-04T11:53:23.846Z"
   },
   {
    "duration": 24,
    "start_time": "2022-09-04T11:54:50.400Z"
   },
   {
    "duration": 9,
    "start_time": "2022-09-04T11:55:03.566Z"
   },
   {
    "duration": 12,
    "start_time": "2022-09-04T12:49:54.124Z"
   },
   {
    "duration": 4310,
    "start_time": "2022-09-04T12:50:16.685Z"
   },
   {
    "duration": 8,
    "start_time": "2022-09-04T12:54:26.786Z"
   },
   {
    "duration": 10,
    "start_time": "2022-09-04T12:55:26.253Z"
   },
   {
    "duration": 9,
    "start_time": "2022-09-04T13:01:30.629Z"
   },
   {
    "duration": 9,
    "start_time": "2022-09-04T13:01:32.630Z"
   },
   {
    "duration": 65,
    "start_time": "2022-09-04T13:11:00.217Z"
   },
   {
    "duration": 6,
    "start_time": "2022-09-04T13:11:10.802Z"
   },
   {
    "duration": 9,
    "start_time": "2022-09-04T13:11:18.963Z"
   },
   {
    "duration": 70,
    "start_time": "2022-09-04T13:11:36.842Z"
   },
   {
    "duration": 66,
    "start_time": "2022-09-04T13:11:41.291Z"
   },
   {
    "duration": 9,
    "start_time": "2022-09-04T13:13:44.518Z"
   },
   {
    "duration": 9,
    "start_time": "2022-09-04T13:13:47.760Z"
   },
   {
    "duration": 8,
    "start_time": "2022-09-04T13:13:54.520Z"
   },
   {
    "duration": 10,
    "start_time": "2022-09-04T13:13:57.405Z"
   },
   {
    "duration": 23,
    "start_time": "2022-09-04T13:14:40.418Z"
   },
   {
    "duration": 13,
    "start_time": "2022-09-04T13:14:55.195Z"
   },
   {
    "duration": 12,
    "start_time": "2022-09-04T13:14:58.605Z"
   },
   {
    "duration": 80,
    "start_time": "2022-09-04T13:15:15.157Z"
   },
   {
    "duration": 11,
    "start_time": "2022-09-04T13:15:22.450Z"
   },
   {
    "duration": 11,
    "start_time": "2022-09-04T13:15:25.341Z"
   },
   {
    "duration": 2287,
    "start_time": "2022-09-04T13:25:54.228Z"
   },
   {
    "duration": 2234,
    "start_time": "2022-09-04T13:43:34.208Z"
   },
   {
    "duration": 17,
    "start_time": "2022-09-04T13:43:49.162Z"
   },
   {
    "duration": 10,
    "start_time": "2022-09-04T13:43:52.137Z"
   },
   {
    "duration": 10,
    "start_time": "2022-09-04T13:43:55.916Z"
   },
   {
    "duration": 63,
    "start_time": "2022-09-04T13:56:29.685Z"
   },
   {
    "duration": 4,
    "start_time": "2022-09-04T13:57:42.343Z"
   },
   {
    "duration": 55,
    "start_time": "2022-09-04T13:57:48.405Z"
   },
   {
    "duration": 4,
    "start_time": "2022-09-04T13:58:36.207Z"
   },
   {
    "duration": 4,
    "start_time": "2022-09-04T13:58:42.277Z"
   },
   {
    "duration": 12,
    "start_time": "2022-09-04T13:58:44.516Z"
   },
   {
    "duration": 1984,
    "start_time": "2022-09-04T14:07:08.938Z"
   },
   {
    "duration": 9,
    "start_time": "2022-09-04T14:11:09.805Z"
   },
   {
    "duration": 17,
    "start_time": "2022-09-04T14:15:54.263Z"
   },
   {
    "duration": 26,
    "start_time": "2022-09-04T14:27:37.563Z"
   },
   {
    "duration": 17,
    "start_time": "2022-09-04T14:28:07.298Z"
   },
   {
    "duration": 13,
    "start_time": "2022-09-04T14:38:17.462Z"
   },
   {
    "duration": 6,
    "start_time": "2022-09-04T18:29:26.519Z"
   },
   {
    "duration": 151,
    "start_time": "2022-09-04T18:33:03.382Z"
   },
   {
    "duration": 169,
    "start_time": "2022-09-04T18:37:29.132Z"
   },
   {
    "duration": 166,
    "start_time": "2022-09-04T18:37:46.003Z"
   },
   {
    "duration": 610,
    "start_time": "2022-09-04T18:41:58.431Z"
   },
   {
    "duration": 67,
    "start_time": "2022-09-04T18:43:59.605Z"
   },
   {
    "duration": 408,
    "start_time": "2022-09-04T18:46:14.011Z"
   },
   {
    "duration": 194,
    "start_time": "2022-09-04T18:46:23.307Z"
   },
   {
    "duration": 272,
    "start_time": "2022-09-04T18:46:42.990Z"
   },
   {
    "duration": 165,
    "start_time": "2022-09-04T18:46:58.989Z"
   },
   {
    "duration": 166,
    "start_time": "2022-09-04T18:48:08.134Z"
   },
   {
    "duration": 164,
    "start_time": "2022-09-04T18:48:22.277Z"
   },
   {
    "duration": 187,
    "start_time": "2022-09-04T18:48:34.115Z"
   },
   {
    "duration": 162,
    "start_time": "2022-09-04T18:48:58.991Z"
   },
   {
    "duration": 58,
    "start_time": "2022-09-04T18:52:20.585Z"
   },
   {
    "duration": 159,
    "start_time": "2022-09-04T18:52:37.579Z"
   },
   {
    "duration": 151,
    "start_time": "2022-09-04T18:53:13.888Z"
   },
   {
    "duration": 154,
    "start_time": "2022-09-04T18:53:43.291Z"
   },
   {
    "duration": 20,
    "start_time": "2022-09-04T18:54:13.881Z"
   },
   {
    "duration": 12,
    "start_time": "2022-09-04T18:56:00.610Z"
   },
   {
    "duration": 141,
    "start_time": "2022-09-04T18:57:35.900Z"
   },
   {
    "duration": 133,
    "start_time": "2022-09-04T18:57:55.384Z"
   },
   {
    "duration": 139,
    "start_time": "2022-09-04T18:58:10.209Z"
   },
   {
    "duration": 221,
    "start_time": "2022-09-04T18:58:23.654Z"
   },
   {
    "duration": 142,
    "start_time": "2022-09-04T18:58:33.819Z"
   },
   {
    "duration": 129,
    "start_time": "2022-09-04T18:58:41.927Z"
   },
   {
    "duration": 8,
    "start_time": "2022-09-04T18:59:27.722Z"
   },
   {
    "duration": 461,
    "start_time": "2022-09-04T19:04:56.109Z"
   },
   {
    "duration": 147,
    "start_time": "2022-09-04T19:08:40.516Z"
   },
   {
    "duration": 144,
    "start_time": "2022-09-04T19:10:54.532Z"
   },
   {
    "duration": 8,
    "start_time": "2022-09-04T19:11:11.927Z"
   },
   {
    "duration": 132,
    "start_time": "2022-09-04T19:12:16.580Z"
   },
   {
    "duration": 158,
    "start_time": "2022-09-04T19:12:24.368Z"
   },
   {
    "duration": 304,
    "start_time": "2022-09-04T19:12:30.933Z"
   },
   {
    "duration": 129,
    "start_time": "2022-09-04T19:12:39.267Z"
   },
   {
    "duration": 113,
    "start_time": "2022-09-04T19:13:07.731Z"
   },
   {
    "duration": 118,
    "start_time": "2022-09-04T19:13:17.781Z"
   },
   {
    "duration": 142,
    "start_time": "2022-09-04T19:13:24.300Z"
   },
   {
    "duration": 126,
    "start_time": "2022-09-04T19:14:08.676Z"
   },
   {
    "duration": 109,
    "start_time": "2022-09-04T19:14:15.998Z"
   },
   {
    "duration": 113,
    "start_time": "2022-09-04T19:14:26.298Z"
   },
   {
    "duration": 122,
    "start_time": "2022-09-04T19:14:52.910Z"
   },
   {
    "duration": 9,
    "start_time": "2022-09-04T19:15:12.775Z"
   },
   {
    "duration": 49,
    "start_time": "2022-09-05T08:22:38.638Z"
   },
   {
    "duration": 3321,
    "start_time": "2022-09-05T08:22:46.326Z"
   },
   {
    "duration": 19,
    "start_time": "2022-09-05T08:25:45.404Z"
   },
   {
    "duration": 10,
    "start_time": "2022-09-05T08:25:49.219Z"
   },
   {
    "duration": 25,
    "start_time": "2022-09-05T08:25:55.488Z"
   },
   {
    "duration": 167,
    "start_time": "2022-09-05T08:26:11.745Z"
   },
   {
    "duration": 14,
    "start_time": "2022-09-05T08:28:27.143Z"
   },
   {
    "duration": 8,
    "start_time": "2022-09-05T08:34:05.504Z"
   },
   {
    "duration": 4,
    "start_time": "2022-09-05T08:42:08.023Z"
   },
   {
    "duration": 7,
    "start_time": "2022-09-05T08:42:20.251Z"
   },
   {
    "duration": 6,
    "start_time": "2022-09-05T08:43:42.232Z"
   },
   {
    "duration": 8,
    "start_time": "2022-09-05T08:43:53.967Z"
   },
   {
    "duration": 10,
    "start_time": "2022-09-05T08:59:46.470Z"
   },
   {
    "duration": 6,
    "start_time": "2022-09-05T09:00:39.018Z"
   },
   {
    "duration": 10,
    "start_time": "2022-09-05T09:01:32.840Z"
   },
   {
    "duration": 11,
    "start_time": "2022-09-05T09:01:36.125Z"
   },
   {
    "duration": 46,
    "start_time": "2022-09-05T09:19:40.324Z"
   },
   {
    "duration": 17,
    "start_time": "2022-09-05T09:20:20.994Z"
   },
   {
    "duration": 13,
    "start_time": "2022-09-05T09:49:17.980Z"
   },
   {
    "duration": 14,
    "start_time": "2022-09-05T09:50:14.390Z"
   },
   {
    "duration": 11,
    "start_time": "2022-09-05T09:50:21.176Z"
   },
   {
    "duration": 9,
    "start_time": "2022-09-05T09:50:24.025Z"
   },
   {
    "duration": 12,
    "start_time": "2022-09-05T09:51:22.634Z"
   },
   {
    "duration": 10,
    "start_time": "2022-09-05T09:51:58.076Z"
   },
   {
    "duration": 5,
    "start_time": "2022-09-05T09:53:52.878Z"
   },
   {
    "duration": 7,
    "start_time": "2022-09-05T09:54:02.696Z"
   },
   {
    "duration": 5,
    "start_time": "2022-09-05T09:54:43.142Z"
   },
   {
    "duration": 6,
    "start_time": "2022-09-05T09:54:44.674Z"
   },
   {
    "duration": 16,
    "start_time": "2022-09-05T09:55:04.668Z"
   },
   {
    "duration": 12,
    "start_time": "2022-09-05T09:55:07.327Z"
   },
   {
    "duration": 7,
    "start_time": "2022-09-05T09:59:42.232Z"
   },
   {
    "duration": 9,
    "start_time": "2022-09-05T10:00:15.723Z"
   },
   {
    "duration": 8,
    "start_time": "2022-09-05T10:00:27.759Z"
   },
   {
    "duration": 8,
    "start_time": "2022-09-05T10:05:44.604Z"
   },
   {
    "duration": 9,
    "start_time": "2022-09-05T10:06:20.024Z"
   },
   {
    "duration": 331,
    "start_time": "2022-09-05T10:08:09.753Z"
   },
   {
    "duration": 454,
    "start_time": "2022-09-05T10:10:04.203Z"
   },
   {
    "duration": 6,
    "start_time": "2022-09-05T10:15:16.680Z"
   },
   {
    "duration": 286,
    "start_time": "2022-09-05T10:15:19.680Z"
   },
   {
    "duration": 5,
    "start_time": "2022-09-05T10:15:44.116Z"
   },
   {
    "duration": 292,
    "start_time": "2022-09-05T10:15:47.562Z"
   },
   {
    "duration": 6,
    "start_time": "2022-09-05T10:16:09.307Z"
   },
   {
    "duration": 7,
    "start_time": "2022-09-05T10:16:15.852Z"
   },
   {
    "duration": 13,
    "start_time": "2022-09-05T10:16:35.352Z"
   },
   {
    "duration": 7,
    "start_time": "2022-09-05T10:18:46.280Z"
   },
   {
    "duration": 14,
    "start_time": "2022-09-05T10:18:54.335Z"
   },
   {
    "duration": 15,
    "start_time": "2022-09-05T10:19:16.810Z"
   },
   {
    "duration": 5,
    "start_time": "2022-09-05T10:19:23.712Z"
   },
   {
    "duration": 6,
    "start_time": "2022-09-05T10:19:27.620Z"
   },
   {
    "duration": 7,
    "start_time": "2022-09-05T10:19:29.715Z"
   },
   {
    "duration": 8,
    "start_time": "2022-09-05T10:20:12.236Z"
   },
   {
    "duration": 6,
    "start_time": "2022-09-05T10:20:14.025Z"
   },
   {
    "duration": 7,
    "start_time": "2022-09-05T10:20:14.812Z"
   },
   {
    "duration": 8,
    "start_time": "2022-09-05T10:20:27.325Z"
   },
   {
    "duration": 9,
    "start_time": "2022-09-05T10:20:29.310Z"
   },
   {
    "duration": 9,
    "start_time": "2022-09-05T10:20:30.208Z"
   },
   {
    "duration": 7,
    "start_time": "2022-09-05T10:20:45.606Z"
   },
   {
    "duration": 9,
    "start_time": "2022-09-05T10:20:46.591Z"
   },
   {
    "duration": 7,
    "start_time": "2022-09-05T10:20:49.157Z"
   },
   {
    "duration": 7,
    "start_time": "2022-09-05T12:43:51.410Z"
   },
   {
    "duration": 8,
    "start_time": "2022-09-05T12:43:55.986Z"
   },
   {
    "duration": 7,
    "start_time": "2022-09-05T12:43:56.761Z"
   },
   {
    "duration": 10,
    "start_time": "2022-09-05T13:39:56.756Z"
   },
   {
    "duration": 6,
    "start_time": "2022-09-05T13:39:59.850Z"
   },
   {
    "duration": 10,
    "start_time": "2022-09-05T13:40:41.231Z"
   },
   {
    "duration": 7,
    "start_time": "2022-09-05T13:40:43.678Z"
   },
   {
    "duration": 11,
    "start_time": "2022-09-05T14:00:00.872Z"
   },
   {
    "duration": 7,
    "start_time": "2022-09-05T14:00:05.769Z"
   },
   {
    "duration": 10,
    "start_time": "2022-09-05T14:00:24.791Z"
   },
   {
    "duration": 7,
    "start_time": "2022-09-05T14:00:29.383Z"
   },
   {
    "duration": 11,
    "start_time": "2022-09-05T14:03:08.546Z"
   },
   {
    "duration": 12,
    "start_time": "2022-09-05T14:05:04.916Z"
   },
   {
    "duration": 7,
    "start_time": "2022-09-05T14:05:08.366Z"
   },
   {
    "duration": 2193,
    "start_time": "2022-09-05T14:06:08.697Z"
   },
   {
    "duration": 15,
    "start_time": "2022-09-05T14:06:16.603Z"
   },
   {
    "duration": 10,
    "start_time": "2022-09-05T14:06:20.757Z"
   },
   {
    "duration": 15,
    "start_time": "2022-09-05T14:06:29.767Z"
   },
   {
    "duration": 10,
    "start_time": "2022-09-05T14:06:34.492Z"
   },
   {
    "duration": 7,
    "start_time": "2022-09-05T14:06:38.855Z"
   },
   {
    "duration": 5,
    "start_time": "2022-09-05T14:06:43.903Z"
   },
   {
    "duration": 8,
    "start_time": "2022-09-05T14:06:48.186Z"
   },
   {
    "duration": 7,
    "start_time": "2022-09-05T14:07:07.894Z"
   },
   {
    "duration": 10,
    "start_time": "2022-09-05T14:07:11.068Z"
   },
   {
    "duration": 6,
    "start_time": "2022-09-05T14:07:13.561Z"
   },
   {
    "duration": 5,
    "start_time": "2022-09-05T14:18:50.861Z"
   },
   {
    "duration": 7,
    "start_time": "2022-09-05T14:20:00.562Z"
   },
   {
    "duration": 6,
    "start_time": "2022-09-05T14:20:03.229Z"
   },
   {
    "duration": 7,
    "start_time": "2022-09-05T14:20:10.545Z"
   },
   {
    "duration": 14,
    "start_time": "2022-09-05T14:20:12.276Z"
   },
   {
    "duration": 7,
    "start_time": "2022-09-05T14:20:19.437Z"
   },
   {
    "duration": 5,
    "start_time": "2022-09-05T14:26:34.809Z"
   },
   {
    "duration": 2233,
    "start_time": "2022-09-05T14:28:00.394Z"
   },
   {
    "duration": 18,
    "start_time": "2022-09-05T14:28:05.553Z"
   },
   {
    "duration": 9,
    "start_time": "2022-09-05T14:28:08.240Z"
   },
   {
    "duration": 16,
    "start_time": "2022-09-05T14:28:12.789Z"
   },
   {
    "duration": 133,
    "start_time": "2022-09-05T14:28:15.076Z"
   },
   {
    "duration": 9,
    "start_time": "2022-09-05T14:28:25.656Z"
   },
   {
    "duration": 6,
    "start_time": "2022-09-05T14:28:29.596Z"
   },
   {
    "duration": 5,
    "start_time": "2022-09-05T14:28:36.153Z"
   },
   {
    "duration": 11,
    "start_time": "2022-09-05T14:28:41.198Z"
   },
   {
    "duration": 81,
    "start_time": "2022-09-05T14:28:43.244Z"
   },
   {
    "duration": 5,
    "start_time": "2022-09-05T14:28:47.215Z"
   },
   {
    "duration": 12,
    "start_time": "2022-09-05T14:30:10.652Z"
   },
   {
    "duration": 81,
    "start_time": "2022-09-05T14:30:12.624Z"
   },
   {
    "duration": 7,
    "start_time": "2022-09-05T14:32:32.834Z"
   },
   {
    "duration": 20,
    "start_time": "2022-09-05T14:32:59.802Z"
   },
   {
    "duration": 103,
    "start_time": "2022-09-05T14:33:01.981Z"
   },
   {
    "duration": 7,
    "start_time": "2022-09-05T14:33:04.396Z"
   },
   {
    "duration": 2220,
    "start_time": "2022-09-05T14:33:21.591Z"
   },
   {
    "duration": 16,
    "start_time": "2022-09-05T14:33:26.847Z"
   },
   {
    "duration": 12,
    "start_time": "2022-09-05T14:33:30.570Z"
   },
   {
    "duration": 19,
    "start_time": "2022-09-05T14:33:33.990Z"
   },
   {
    "duration": 10,
    "start_time": "2022-09-05T14:33:37.449Z"
   },
   {
    "duration": 6,
    "start_time": "2022-09-05T14:33:41.260Z"
   },
   {
    "duration": 12,
    "start_time": "2022-09-05T14:33:47.763Z"
   },
   {
    "duration": 83,
    "start_time": "2022-09-05T14:33:49.761Z"
   },
   {
    "duration": 9,
    "start_time": "2022-09-05T14:33:53.462Z"
   },
   {
    "duration": 155,
    "start_time": "2022-09-05T14:43:58.454Z"
   },
   {
    "duration": 8,
    "start_time": "2022-09-05T14:44:00.333Z"
   },
   {
    "duration": 1989,
    "start_time": "2022-09-05T14:49:33.149Z"
   },
   {
    "duration": 16,
    "start_time": "2022-09-05T14:49:43.653Z"
   },
   {
    "duration": 9,
    "start_time": "2022-09-05T14:49:52.117Z"
   },
   {
    "duration": 12,
    "start_time": "2022-09-05T14:50:03.873Z"
   },
   {
    "duration": 16,
    "start_time": "2022-09-05T14:50:08.121Z"
   },
   {
    "duration": 332,
    "start_time": "2022-09-05T14:50:11.828Z"
   },
   {
    "duration": 9,
    "start_time": "2022-09-05T14:50:15.145Z"
   },
   {
    "duration": 6,
    "start_time": "2022-09-05T14:50:18.606Z"
   },
   {
    "duration": 12,
    "start_time": "2022-09-05T14:50:21.586Z"
   },
   {
    "duration": 153,
    "start_time": "2022-09-05T14:50:24.857Z"
   },
   {
    "duration": 7,
    "start_time": "2022-09-05T14:50:27.408Z"
   },
   {
    "duration": 16,
    "start_time": "2022-09-05T14:50:31.382Z"
   },
   {
    "duration": 283,
    "start_time": "2022-09-05T14:50:33.638Z"
   },
   {
    "duration": 5,
    "start_time": "2022-09-05T14:50:35.303Z"
   },
   {
    "duration": 14,
    "start_time": "2022-09-05T14:50:46.358Z"
   },
   {
    "duration": 180,
    "start_time": "2022-09-05T14:56:39.699Z"
   },
   {
    "duration": 6,
    "start_time": "2022-09-05T14:56:41.427Z"
   },
   {
    "duration": 189,
    "start_time": "2022-09-05T14:57:20.329Z"
   },
   {
    "duration": 6,
    "start_time": "2022-09-05T14:57:21.189Z"
   },
   {
    "duration": 186,
    "start_time": "2022-09-05T14:57:34.174Z"
   },
   {
    "duration": 7,
    "start_time": "2022-09-05T14:57:35.186Z"
   },
   {
    "duration": 191,
    "start_time": "2022-09-05T14:57:46.320Z"
   },
   {
    "duration": 6,
    "start_time": "2022-09-05T14:57:47.834Z"
   },
   {
    "duration": 11,
    "start_time": "2022-09-05T15:13:33.847Z"
   },
   {
    "duration": 7,
    "start_time": "2022-09-05T15:14:38.581Z"
   },
   {
    "duration": 8,
    "start_time": "2022-09-05T15:15:42.401Z"
   },
   {
    "duration": 7,
    "start_time": "2022-09-05T15:16:20.474Z"
   },
   {
    "duration": 7,
    "start_time": "2022-09-05T15:17:30.569Z"
   },
   {
    "duration": 267,
    "start_time": "2022-09-05T16:40:19.649Z"
   },
   {
    "duration": 14,
    "start_time": "2022-09-05T16:40:47.351Z"
   },
   {
    "duration": 15,
    "start_time": "2022-09-05T16:44:25.053Z"
   },
   {
    "duration": 14,
    "start_time": "2022-09-05T16:47:34.256Z"
   },
   {
    "duration": 17,
    "start_time": "2022-09-05T17:01:04.005Z"
   },
   {
    "duration": 16,
    "start_time": "2022-09-05T18:37:56.127Z"
   },
   {
    "duration": 14,
    "start_time": "2022-09-05T18:38:18.171Z"
   },
   {
    "duration": 13,
    "start_time": "2022-09-05T18:40:57.571Z"
   },
   {
    "duration": 6,
    "start_time": "2022-09-05T18:41:35.222Z"
   },
   {
    "duration": 7,
    "start_time": "2022-09-05T18:42:47.872Z"
   },
   {
    "duration": 6,
    "start_time": "2022-09-05T18:43:35.274Z"
   },
   {
    "duration": 7,
    "start_time": "2022-09-05T18:43:44.333Z"
   },
   {
    "duration": 49,
    "start_time": "2022-09-06T08:27:21.644Z"
   },
   {
    "duration": 3200,
    "start_time": "2022-09-06T08:27:29.625Z"
   },
   {
    "duration": 19,
    "start_time": "2022-09-06T08:27:37.789Z"
   },
   {
    "duration": 9,
    "start_time": "2022-09-06T08:27:42.272Z"
   },
   {
    "duration": 18,
    "start_time": "2022-09-06T08:27:47.212Z"
   },
   {
    "duration": 140,
    "start_time": "2022-09-06T08:27:49.861Z"
   },
   {
    "duration": 9,
    "start_time": "2022-09-06T08:28:01.133Z"
   },
   {
    "duration": 6,
    "start_time": "2022-09-06T08:28:05.331Z"
   },
   {
    "duration": 11,
    "start_time": "2022-09-06T08:28:59.233Z"
   },
   {
    "duration": 186,
    "start_time": "2022-09-06T08:29:00.476Z"
   },
   {
    "duration": 6,
    "start_time": "2022-09-06T08:29:02.561Z"
   },
   {
    "duration": 19,
    "start_time": "2022-09-06T08:29:06.829Z"
   },
   {
    "duration": 289,
    "start_time": "2022-09-06T08:29:07.929Z"
   },
   {
    "duration": 45,
    "start_time": "2022-09-06T08:29:09.292Z"
   },
   {
    "duration": 6,
    "start_time": "2022-09-06T08:30:36.221Z"
   },
   {
    "duration": 9,
    "start_time": "2022-09-06T08:33:57.571Z"
   },
   {
    "duration": 833,
    "start_time": "2022-09-06T08:34:11.929Z"
   },
   {
    "duration": 2021,
    "start_time": "2022-09-06T09:29:12.034Z"
   },
   {
    "duration": 12,
    "start_time": "2022-09-06T09:29:18.618Z"
   },
   {
    "duration": 17,
    "start_time": "2022-09-06T09:29:20.850Z"
   },
   {
    "duration": 228,
    "start_time": "2022-09-06T09:29:20.953Z"
   },
   {
    "duration": 9,
    "start_time": "2022-09-06T09:29:30.440Z"
   },
   {
    "duration": 7,
    "start_time": "2022-09-06T09:29:30.638Z"
   },
   {
    "duration": 14,
    "start_time": "2022-09-06T09:29:33.058Z"
   },
   {
    "duration": 186,
    "start_time": "2022-09-06T09:29:33.162Z"
   },
   {
    "duration": 14,
    "start_time": "2022-09-06T09:29:36.926Z"
   },
   {
    "duration": 289,
    "start_time": "2022-09-06T09:29:37.027Z"
   },
   {
    "duration": 2105,
    "start_time": "2022-09-06T09:29:51.481Z"
   },
   {
    "duration": 9,
    "start_time": "2022-09-06T09:29:56.200Z"
   },
   {
    "duration": 16,
    "start_time": "2022-09-06T09:29:58.450Z"
   },
   {
    "duration": 131,
    "start_time": "2022-09-06T09:29:58.553Z"
   },
   {
    "duration": 126,
    "start_time": "2022-09-06T09:30:02.144Z"
   },
   {
    "duration": 126,
    "start_time": "2022-09-06T09:31:09.289Z"
   },
   {
    "duration": 127,
    "start_time": "2022-09-06T09:31:35.832Z"
   },
   {
    "duration": 133,
    "start_time": "2022-09-06T09:31:45.377Z"
   },
   {
    "duration": 132,
    "start_time": "2022-09-06T09:31:53.747Z"
   },
   {
    "duration": 10,
    "start_time": "2022-09-06T09:31:59.940Z"
   },
   {
    "duration": 7,
    "start_time": "2022-09-06T09:32:04.030Z"
   },
   {
    "duration": 26,
    "start_time": "2022-09-06T09:32:06.457Z"
   },
   {
    "duration": 192,
    "start_time": "2022-09-06T09:32:08.522Z"
   },
   {
    "duration": 6,
    "start_time": "2022-09-06T09:32:12.146Z"
   },
   {
    "duration": 14,
    "start_time": "2022-09-06T09:32:15.653Z"
   },
   {
    "duration": 281,
    "start_time": "2022-09-06T09:32:18.886Z"
   },
   {
    "duration": 10,
    "start_time": "2022-09-06T09:33:09.903Z"
   },
   {
    "duration": 8,
    "start_time": "2022-09-06T09:37:39.934Z"
   },
   {
    "duration": 8,
    "start_time": "2022-09-06T09:39:48.241Z"
   },
   {
    "duration": 9,
    "start_time": "2022-09-06T09:39:58.496Z"
   },
   {
    "duration": 8,
    "start_time": "2022-09-06T09:40:47.574Z"
   },
   {
    "duration": 9,
    "start_time": "2022-09-06T09:41:01.668Z"
   },
   {
    "duration": 9,
    "start_time": "2022-09-06T09:43:04.250Z"
   },
   {
    "duration": 12,
    "start_time": "2022-09-06T10:55:03.025Z"
   },
   {
    "duration": 10,
    "start_time": "2022-09-06T10:55:14.211Z"
   },
   {
    "duration": 9,
    "start_time": "2022-09-06T11:00:11.424Z"
   },
   {
    "duration": 10,
    "start_time": "2022-09-06T11:07:46.578Z"
   },
   {
    "duration": 8,
    "start_time": "2022-09-06T11:08:05.718Z"
   },
   {
    "duration": 18,
    "start_time": "2022-09-06T11:08:22.167Z"
   },
   {
    "duration": 9,
    "start_time": "2022-09-06T11:08:41.286Z"
   },
   {
    "duration": 9,
    "start_time": "2022-09-06T11:10:54.530Z"
   },
   {
    "duration": 8,
    "start_time": "2022-09-06T11:11:30.885Z"
   },
   {
    "duration": 2802,
    "start_time": "2022-09-06T15:52:15.038Z"
   },
   {
    "duration": 17,
    "start_time": "2022-09-06T15:52:23.117Z"
   },
   {
    "duration": 8,
    "start_time": "2022-09-06T15:52:26.364Z"
   },
   {
    "duration": 17,
    "start_time": "2022-09-06T15:52:34.236Z"
   },
   {
    "duration": 116,
    "start_time": "2022-09-06T15:52:39.483Z"
   },
   {
    "duration": 8,
    "start_time": "2022-09-06T15:52:44.826Z"
   },
   {
    "duration": 6,
    "start_time": "2022-09-06T15:52:48.482Z"
   },
   {
    "duration": 10,
    "start_time": "2022-09-06T15:52:52.375Z"
   },
   {
    "duration": 189,
    "start_time": "2022-09-06T15:52:56.246Z"
   },
   {
    "duration": 8,
    "start_time": "2022-09-06T15:52:59.641Z"
   },
   {
    "duration": 14,
    "start_time": "2022-09-06T15:53:03.869Z"
   },
   {
    "duration": 269,
    "start_time": "2022-09-06T15:53:06.439Z"
   },
   {
    "duration": 337,
    "start_time": "2022-09-06T16:02:47.400Z"
   },
   {
    "duration": 5,
    "start_time": "2022-09-06T16:02:47.740Z"
   },
   {
    "duration": 6,
    "start_time": "2022-09-06T16:02:54.015Z"
   },
   {
    "duration": 77,
    "start_time": "2022-09-06T16:05:19.729Z"
   },
   {
    "duration": 90,
    "start_time": "2022-09-06T16:06:11.832Z"
   },
   {
    "duration": 85,
    "start_time": "2022-09-06T16:06:30.962Z"
   },
   {
    "duration": 15,
    "start_time": "2022-09-06T16:09:13.526Z"
   },
   {
    "duration": 4,
    "start_time": "2022-09-06T16:12:02.496Z"
   },
   {
    "duration": 297,
    "start_time": "2022-09-06T16:14:26.137Z"
   },
   {
    "duration": 256,
    "start_time": "2022-09-06T16:25:18.748Z"
   },
   {
    "duration": 254,
    "start_time": "2022-09-06T16:26:30.079Z"
   },
   {
    "duration": 248,
    "start_time": "2022-09-06T16:32:01.874Z"
   },
   {
    "duration": 171,
    "start_time": "2022-09-06T16:36:43.386Z"
   },
   {
    "duration": 246,
    "start_time": "2022-09-06T16:37:09.394Z"
   },
   {
    "duration": 246,
    "start_time": "2022-09-06T16:37:22.120Z"
   },
   {
    "duration": 258,
    "start_time": "2022-09-06T16:37:56.840Z"
   },
   {
    "duration": 247,
    "start_time": "2022-09-06T16:50:11.143Z"
   },
   {
    "duration": 192,
    "start_time": "2022-09-06T16:50:37.998Z"
   },
   {
    "duration": 201,
    "start_time": "2022-09-06T16:51:08.321Z"
   },
   {
    "duration": 141,
    "start_time": "2022-09-06T18:24:26.847Z"
   },
   {
    "duration": 141,
    "start_time": "2022-09-06T18:24:42.434Z"
   },
   {
    "duration": 173,
    "start_time": "2022-09-06T18:25:18.433Z"
   },
   {
    "duration": 203,
    "start_time": "2022-09-06T18:54:18.242Z"
   },
   {
    "duration": 156,
    "start_time": "2022-09-06T18:56:04.103Z"
   },
   {
    "duration": 210,
    "start_time": "2022-09-06T18:56:42.548Z"
   },
   {
    "duration": 179,
    "start_time": "2022-09-06T18:56:55.950Z"
   },
   {
    "duration": 201,
    "start_time": "2022-09-06T18:57:25.994Z"
   },
   {
    "duration": 218,
    "start_time": "2022-09-06T18:57:31.855Z"
   },
   {
    "duration": 150,
    "start_time": "2022-09-06T18:58:12.433Z"
   },
   {
    "duration": 158,
    "start_time": "2022-09-06T18:58:28.327Z"
   },
   {
    "duration": 165,
    "start_time": "2022-09-06T18:58:40.236Z"
   },
   {
    "duration": 170,
    "start_time": "2022-09-06T19:03:32.546Z"
   },
   {
    "duration": 176,
    "start_time": "2022-09-06T19:03:42.628Z"
   },
   {
    "duration": 188,
    "start_time": "2022-09-06T19:04:35.217Z"
   },
   {
    "duration": 187,
    "start_time": "2022-09-06T19:04:50.099Z"
   },
   {
    "duration": 195,
    "start_time": "2022-09-06T19:05:03.953Z"
   },
   {
    "duration": 181,
    "start_time": "2022-09-06T19:06:29.748Z"
   },
   {
    "duration": 187,
    "start_time": "2022-09-06T19:07:04.974Z"
   },
   {
    "duration": 274,
    "start_time": "2022-09-06T19:07:13.893Z"
   },
   {
    "duration": 174,
    "start_time": "2022-09-06T19:09:17.801Z"
   },
   {
    "duration": 190,
    "start_time": "2022-09-06T19:10:06.236Z"
   },
   {
    "duration": 2119,
    "start_time": "2022-09-06T19:10:30.270Z"
   },
   {
    "duration": 182,
    "start_time": "2022-09-06T19:10:44.132Z"
   },
   {
    "duration": 2140,
    "start_time": "2022-09-06T19:10:50.944Z"
   },
   {
    "duration": 194,
    "start_time": "2022-09-06T19:11:01.844Z"
   },
   {
    "duration": 349,
    "start_time": "2022-09-06T19:11:15.037Z"
   },
   {
    "duration": 4,
    "start_time": "2022-09-06T19:12:27.047Z"
   },
   {
    "duration": 15,
    "start_time": "2022-09-06T19:12:34.425Z"
   },
   {
    "duration": 14,
    "start_time": "2022-09-06T19:12:59.754Z"
   },
   {
    "duration": 198,
    "start_time": "2022-09-06T19:14:02.492Z"
   },
   {
    "duration": 185,
    "start_time": "2022-09-06T19:14:29.050Z"
   },
   {
    "duration": 23,
    "start_time": "2022-09-06T19:20:20.180Z"
   },
   {
    "duration": 3,
    "start_time": "2022-09-06T19:20:45.316Z"
   },
   {
    "duration": 346,
    "start_time": "2022-09-06T19:20:56.296Z"
   },
   {
    "duration": 5,
    "start_time": "2022-09-06T19:20:58.631Z"
   },
   {
    "duration": 241,
    "start_time": "2022-09-06T19:21:02.328Z"
   },
   {
    "duration": 213,
    "start_time": "2022-09-06T19:21:09.385Z"
   },
   {
    "duration": 192,
    "start_time": "2022-09-06T19:21:15.292Z"
   },
   {
    "duration": 238,
    "start_time": "2022-09-06T19:21:25.241Z"
   },
   {
    "duration": 191,
    "start_time": "2022-09-06T19:21:32.272Z"
   },
   {
    "duration": 15,
    "start_time": "2022-09-06T19:21:38.057Z"
   },
   {
    "duration": 18,
    "start_time": "2022-09-06T19:22:46.029Z"
   },
   {
    "duration": 2887,
    "start_time": "2022-09-07T09:21:50.018Z"
   },
   {
    "duration": 19,
    "start_time": "2022-09-07T09:21:52.908Z"
   },
   {
    "duration": 10,
    "start_time": "2022-09-07T09:21:53.844Z"
   },
   {
    "duration": 19,
    "start_time": "2022-09-07T09:21:57.999Z"
   },
   {
    "duration": 137,
    "start_time": "2022-09-07T09:22:01.240Z"
   },
   {
    "duration": 9,
    "start_time": "2022-09-07T09:22:02.931Z"
   },
   {
    "duration": 8,
    "start_time": "2022-09-07T09:22:06.465Z"
   },
   {
    "duration": 11,
    "start_time": "2022-09-07T09:22:12.068Z"
   },
   {
    "duration": 182,
    "start_time": "2022-09-07T09:22:13.292Z"
   },
   {
    "duration": 6,
    "start_time": "2022-09-07T09:22:19.037Z"
   },
   {
    "duration": 14,
    "start_time": "2022-09-07T09:22:22.704Z"
   },
   {
    "duration": 285,
    "start_time": "2022-09-07T09:22:23.792Z"
   },
   {
    "duration": 5,
    "start_time": "2022-09-07T09:22:26.631Z"
   },
   {
    "duration": 246,
    "start_time": "2022-09-07T09:22:33.556Z"
   },
   {
    "duration": 276,
    "start_time": "2022-09-07T09:22:42.245Z"
   },
   {
    "duration": 189,
    "start_time": "2022-09-07T09:22:54.881Z"
   },
   {
    "duration": 167,
    "start_time": "2022-09-07T09:22:58.252Z"
   },
   {
    "duration": 197,
    "start_time": "2022-09-07T09:23:01.738Z"
   },
   {
    "duration": 86,
    "start_time": "2022-09-07T09:23:06.889Z"
   },
   {
    "duration": 5,
    "start_time": "2022-09-07T09:24:43.067Z"
   },
   {
    "duration": 914,
    "start_time": "2022-09-07T09:30:02.794Z"
   },
   {
    "duration": 311,
    "start_time": "2022-09-07T09:30:36.733Z"
   },
   {
    "duration": 4,
    "start_time": "2022-09-07T09:30:38.414Z"
   },
   {
    "duration": 304,
    "start_time": "2022-09-07T09:30:40.573Z"
   },
   {
    "duration": 211,
    "start_time": "2022-09-07T09:30:42.615Z"
   },
   {
    "duration": 217,
    "start_time": "2022-09-07T09:30:48.255Z"
   },
   {
    "duration": 120,
    "start_time": "2022-09-07T09:30:51.772Z"
   },
   {
    "duration": 183,
    "start_time": "2022-09-07T09:30:55.038Z"
   },
   {
    "duration": 270,
    "start_time": "2022-09-07T09:30:57.310Z"
   },
   {
    "duration": 296,
    "start_time": "2022-09-07T09:31:02.211Z"
   },
   {
    "duration": 5,
    "start_time": "2022-09-07T09:32:21.084Z"
   },
   {
    "duration": 306,
    "start_time": "2022-09-07T09:33:47.994Z"
   },
   {
    "duration": 4,
    "start_time": "2022-09-07T09:33:50.009Z"
   },
   {
    "duration": 267,
    "start_time": "2022-09-07T09:33:51.052Z"
   },
   {
    "duration": 211,
    "start_time": "2022-09-07T09:33:52.803Z"
   },
   {
    "duration": 209,
    "start_time": "2022-09-07T09:33:57.785Z"
   },
   {
    "duration": 74,
    "start_time": "2022-09-07T09:34:02.788Z"
   },
   {
    "duration": 74,
    "start_time": "2022-09-07T09:34:10.086Z"
   },
   {
    "duration": 182,
    "start_time": "2022-09-07T09:34:23.151Z"
   },
   {
    "duration": 13,
    "start_time": "2022-09-07T09:34:28.166Z"
   },
   {
    "duration": 474,
    "start_time": "2022-09-07T09:36:51.039Z"
   },
   {
    "duration": 573,
    "start_time": "2022-09-07T13:50:53.795Z"
   },
   {
    "duration": 9,
    "start_time": "2022-09-07T13:51:02.579Z"
   },
   {
    "duration": 8,
    "start_time": "2022-09-07T13:51:25.328Z"
   },
   {
    "duration": 2198,
    "start_time": "2022-09-07T13:51:34.313Z"
   },
   {
    "duration": 19,
    "start_time": "2022-09-07T13:51:46.009Z"
   },
   {
    "duration": 11,
    "start_time": "2022-09-07T13:51:48.412Z"
   },
   {
    "duration": 22,
    "start_time": "2022-09-07T13:51:51.449Z"
   },
   {
    "duration": 147,
    "start_time": "2022-09-07T13:51:53.754Z"
   },
   {
    "duration": 10,
    "start_time": "2022-09-07T13:52:11.379Z"
   },
   {
    "duration": 7,
    "start_time": "2022-09-07T13:52:15.371Z"
   },
   {
    "duration": 14,
    "start_time": "2022-09-07T13:52:19.527Z"
   },
   {
    "duration": 196,
    "start_time": "2022-09-07T13:52:21.316Z"
   },
   {
    "duration": 7,
    "start_time": "2022-09-07T13:52:26.155Z"
   },
   {
    "duration": 14,
    "start_time": "2022-09-07T13:53:09.117Z"
   },
   {
    "duration": 299,
    "start_time": "2022-09-07T13:53:11.042Z"
   },
   {
    "duration": 4,
    "start_time": "2022-09-07T13:53:13.660Z"
   },
   {
    "duration": 270,
    "start_time": "2022-09-07T13:53:16.020Z"
   },
   {
    "duration": 203,
    "start_time": "2022-09-07T13:53:22.033Z"
   },
   {
    "duration": 242,
    "start_time": "2022-09-07T13:53:26.325Z"
   },
   {
    "duration": 193,
    "start_time": "2022-09-07T13:53:31.122Z"
   },
   {
    "duration": 216,
    "start_time": "2022-09-07T13:53:34.380Z"
   },
   {
    "duration": 9,
    "start_time": "2022-09-07T13:53:39.172Z"
   },
   {
    "duration": 9,
    "start_time": "2022-09-07T13:53:49.360Z"
   },
   {
    "duration": 1247,
    "start_time": "2022-09-07T13:57:37.382Z"
   },
   {
    "duration": 11,
    "start_time": "2022-09-07T13:57:47.190Z"
   },
   {
    "duration": 450,
    "start_time": "2022-09-07T13:57:53.672Z"
   },
   {
    "duration": 339,
    "start_time": "2022-09-07T13:58:28.754Z"
   },
   {
    "duration": 79,
    "start_time": "2022-09-07T14:04:57.659Z"
   },
   {
    "duration": 10,
    "start_time": "2022-09-07T14:05:53.109Z"
   },
   {
    "duration": 10,
    "start_time": "2022-09-07T14:06:16.932Z"
   },
   {
    "duration": 10,
    "start_time": "2022-09-07T14:06:27.396Z"
   },
   {
    "duration": 317,
    "start_time": "2022-09-07T14:11:38.398Z"
   },
   {
    "duration": 313,
    "start_time": "2022-09-07T14:12:29.861Z"
   },
   {
    "duration": 317,
    "start_time": "2022-09-07T14:12:48.423Z"
   },
   {
    "duration": 91,
    "start_time": "2022-09-07T14:17:55.851Z"
   },
   {
    "duration": 267,
    "start_time": "2022-09-07T14:18:06.485Z"
   },
   {
    "duration": 78,
    "start_time": "2022-09-07T14:23:32.053Z"
   },
   {
    "duration": 75,
    "start_time": "2022-09-07T14:23:49.781Z"
   },
   {
    "duration": 245,
    "start_time": "2022-09-07T14:24:02.020Z"
   },
   {
    "duration": 2424,
    "start_time": "2022-09-07T14:24:31.443Z"
   },
   {
    "duration": 219,
    "start_time": "2022-09-07T14:24:47.118Z"
   },
   {
    "duration": 261,
    "start_time": "2022-09-07T14:25:08.603Z"
   },
   {
    "duration": 355,
    "start_time": "2022-09-07T14:25:17.256Z"
   },
   {
    "duration": 202,
    "start_time": "2022-09-07T14:41:07.905Z"
   },
   {
    "duration": 220,
    "start_time": "2022-09-07T14:41:24.590Z"
   },
   {
    "duration": 204,
    "start_time": "2022-09-07T14:43:35.985Z"
   },
   {
    "duration": 211,
    "start_time": "2022-09-07T14:44:10.372Z"
   },
   {
    "duration": 215,
    "start_time": "2022-09-07T14:44:16.237Z"
   },
   {
    "duration": 219,
    "start_time": "2022-09-07T14:44:23.218Z"
   },
   {
    "duration": 218,
    "start_time": "2022-09-07T14:44:34.418Z"
   },
   {
    "duration": 222,
    "start_time": "2022-09-07T14:46:02.053Z"
   },
   {
    "duration": 228,
    "start_time": "2022-09-07T14:46:16.900Z"
   },
   {
    "duration": 221,
    "start_time": "2022-09-07T14:46:27.288Z"
   },
   {
    "duration": 2130,
    "start_time": "2022-09-07T14:46:54.208Z"
   },
   {
    "duration": 17,
    "start_time": "2022-09-07T14:47:02.483Z"
   },
   {
    "duration": 10,
    "start_time": "2022-09-07T14:47:05.505Z"
   },
   {
    "duration": 17,
    "start_time": "2022-09-07T14:47:09.294Z"
   },
   {
    "duration": 149,
    "start_time": "2022-09-07T14:47:11.586Z"
   },
   {
    "duration": 9,
    "start_time": "2022-09-07T14:47:14.379Z"
   },
   {
    "duration": 8,
    "start_time": "2022-09-07T14:47:33.601Z"
   },
   {
    "duration": 9,
    "start_time": "2022-09-07T14:47:36.585Z"
   },
   {
    "duration": 12,
    "start_time": "2022-09-07T14:47:40.232Z"
   },
   {
    "duration": 184,
    "start_time": "2022-09-07T14:47:43.196Z"
   },
   {
    "duration": 7,
    "start_time": "2022-09-07T14:47:44.997Z"
   },
   {
    "duration": 15,
    "start_time": "2022-09-07T14:47:48.354Z"
   },
   {
    "duration": 392,
    "start_time": "2022-09-07T14:47:50.441Z"
   },
   {
    "duration": 4,
    "start_time": "2022-09-07T14:47:52.639Z"
   },
   {
    "duration": 268,
    "start_time": "2022-09-07T14:47:54.868Z"
   },
   {
    "duration": 203,
    "start_time": "2022-09-07T14:48:01.900Z"
   },
   {
    "duration": 212,
    "start_time": "2022-09-07T14:48:16.930Z"
   },
   {
    "duration": 191,
    "start_time": "2022-09-07T14:48:25.244Z"
   },
   {
    "duration": 232,
    "start_time": "2022-09-07T14:48:25.437Z"
   },
   {
    "duration": 293,
    "start_time": "2022-09-07T14:48:28.848Z"
   },
   {
    "duration": 206,
    "start_time": "2022-09-07T14:48:33.214Z"
   },
   {
    "duration": 283,
    "start_time": "2022-09-07T14:48:36.767Z"
   },
   {
    "duration": 217,
    "start_time": "2022-09-07T14:48:47.372Z"
   },
   {
    "duration": 318,
    "start_time": "2022-09-07T14:49:10.185Z"
   },
   {
    "duration": 220,
    "start_time": "2022-09-07T14:49:15.943Z"
   },
   {
    "duration": 209,
    "start_time": "2022-09-07T14:49:18.727Z"
   },
   {
    "duration": 234,
    "start_time": "2022-09-07T14:49:49.256Z"
   },
   {
    "duration": 253,
    "start_time": "2022-09-07T14:51:29.062Z"
   },
   {
    "duration": 190,
    "start_time": "2022-09-07T14:51:39.514Z"
   },
   {
    "duration": 222,
    "start_time": "2022-09-07T14:51:46.084Z"
   },
   {
    "duration": 200,
    "start_time": "2022-09-07T14:53:42.973Z"
   },
   {
    "duration": 234,
    "start_time": "2022-09-07T14:54:08.969Z"
   },
   {
    "duration": 225,
    "start_time": "2022-09-07T14:54:18.219Z"
   },
   {
    "duration": 339,
    "start_time": "2022-09-07T14:54:25.239Z"
   },
   {
    "duration": 214,
    "start_time": "2022-09-07T14:54:44.709Z"
   },
   {
    "duration": 199,
    "start_time": "2022-09-07T14:55:13.068Z"
   },
   {
    "duration": 189,
    "start_time": "2022-09-07T14:55:20.518Z"
   },
   {
    "duration": 203,
    "start_time": "2022-09-07T14:55:29.030Z"
   },
   {
    "duration": 71,
    "start_time": "2022-09-07T14:58:13.805Z"
   },
   {
    "duration": 198,
    "start_time": "2022-09-07T14:58:35.385Z"
   },
   {
    "duration": 200,
    "start_time": "2022-09-07T14:58:53.029Z"
   },
   {
    "duration": 196,
    "start_time": "2022-09-07T14:59:02.122Z"
   },
   {
    "duration": 184,
    "start_time": "2022-09-07T14:59:11.328Z"
   },
   {
    "duration": 178,
    "start_time": "2022-09-07T14:59:17.438Z"
   },
   {
    "duration": 191,
    "start_time": "2022-09-07T14:59:39.985Z"
   },
   {
    "duration": 377,
    "start_time": "2022-09-07T15:00:01.273Z"
   },
   {
    "duration": 224,
    "start_time": "2022-09-07T15:00:52.983Z"
   },
   {
    "duration": 180,
    "start_time": "2022-09-07T15:01:09.047Z"
   },
   {
    "duration": 159,
    "start_time": "2022-09-07T15:02:47.291Z"
   },
   {
    "duration": 5,
    "start_time": "2022-09-07T15:05:03.432Z"
   },
   {
    "duration": 175,
    "start_time": "2022-09-07T15:05:12.103Z"
   },
   {
    "duration": 210,
    "start_time": "2022-09-07T15:05:47.830Z"
   },
   {
    "duration": 218,
    "start_time": "2022-09-07T15:06:11.709Z"
   },
   {
    "duration": 72,
    "start_time": "2022-09-07T15:07:09.237Z"
   },
   {
    "duration": 302,
    "start_time": "2022-09-07T15:07:19.188Z"
   },
   {
    "duration": 127,
    "start_time": "2022-09-07T15:07:53.529Z"
   },
   {
    "duration": 212,
    "start_time": "2022-09-07T15:08:02.881Z"
   },
   {
    "duration": 221,
    "start_time": "2022-09-07T15:08:40.125Z"
   },
   {
    "duration": 302,
    "start_time": "2022-09-07T15:09:07.076Z"
   },
   {
    "duration": 215,
    "start_time": "2022-09-07T15:09:16.788Z"
   },
   {
    "duration": 196,
    "start_time": "2022-09-07T15:09:22.813Z"
   },
   {
    "duration": 210,
    "start_time": "2022-09-07T15:09:38.357Z"
   },
   {
    "duration": 211,
    "start_time": "2022-09-07T15:09:42.993Z"
   },
   {
    "duration": 2132,
    "start_time": "2022-09-07T15:09:53.579Z"
   },
   {
    "duration": 17,
    "start_time": "2022-09-07T15:10:01.662Z"
   },
   {
    "duration": 9,
    "start_time": "2022-09-07T15:10:04.392Z"
   },
   {
    "duration": 17,
    "start_time": "2022-09-07T15:10:08.455Z"
   },
   {
    "duration": 141,
    "start_time": "2022-09-07T15:10:10.852Z"
   },
   {
    "duration": 12,
    "start_time": "2022-09-07T15:10:23.499Z"
   },
   {
    "duration": 8,
    "start_time": "2022-09-07T15:10:26.637Z"
   },
   {
    "duration": 19,
    "start_time": "2022-09-07T15:10:30.242Z"
   },
   {
    "duration": 186,
    "start_time": "2022-09-07T15:10:32.124Z"
   },
   {
    "duration": 6,
    "start_time": "2022-09-07T15:10:33.533Z"
   },
   {
    "duration": 19,
    "start_time": "2022-09-07T15:10:36.845Z"
   },
   {
    "duration": 293,
    "start_time": "2022-09-07T15:10:38.567Z"
   },
   {
    "duration": 4,
    "start_time": "2022-09-07T15:10:42.708Z"
   },
   {
    "duration": 165,
    "start_time": "2022-09-07T15:10:45.574Z"
   },
   {
    "duration": 177,
    "start_time": "2022-09-07T15:10:48.957Z"
   },
   {
    "duration": 187,
    "start_time": "2022-09-07T15:10:52.897Z"
   },
   {
    "duration": 204,
    "start_time": "2022-09-07T15:10:57.430Z"
   },
   {
    "duration": 289,
    "start_time": "2022-09-07T15:11:04.126Z"
   },
   {
    "duration": 211,
    "start_time": "2022-09-07T15:11:13.841Z"
   },
   {
    "duration": 316,
    "start_time": "2022-09-07T15:11:17.761Z"
   },
   {
    "duration": 233,
    "start_time": "2022-09-07T15:11:21.470Z"
   },
   {
    "duration": 216,
    "start_time": "2022-09-07T15:11:27.142Z"
   },
   {
    "duration": 220,
    "start_time": "2022-09-07T15:11:31.830Z"
   },
   {
    "duration": 10,
    "start_time": "2022-09-07T15:22:24.141Z"
   },
   {
    "duration": 128,
    "start_time": "2022-09-07T15:24:00.695Z"
   },
   {
    "duration": 219,
    "start_time": "2022-09-07T15:24:13.840Z"
   },
   {
    "duration": 234,
    "start_time": "2022-09-07T15:24:23.721Z"
   },
   {
    "duration": 211,
    "start_time": "2022-09-07T15:24:50.510Z"
   },
   {
    "duration": 213,
    "start_time": "2022-09-07T15:25:10.472Z"
   },
   {
    "duration": 334,
    "start_time": "2022-09-07T15:30:32.858Z"
   },
   {
    "duration": 114,
    "start_time": "2022-09-07T15:30:52.729Z"
   },
   {
    "duration": 201,
    "start_time": "2022-09-07T15:31:05.908Z"
   },
   {
    "duration": 201,
    "start_time": "2022-09-07T15:31:21.708Z"
   },
   {
    "duration": 206,
    "start_time": "2022-09-07T15:31:53.930Z"
   },
   {
    "duration": 222,
    "start_time": "2022-09-07T15:32:07.319Z"
   },
   {
    "duration": 225,
    "start_time": "2022-09-07T15:32:26.708Z"
   },
   {
    "duration": 184,
    "start_time": "2022-09-07T15:32:54.087Z"
   },
   {
    "duration": 212,
    "start_time": "2022-09-07T15:33:06.836Z"
   },
   {
    "duration": 215,
    "start_time": "2022-09-07T15:35:24.858Z"
   },
   {
    "duration": 183,
    "start_time": "2022-09-07T15:35:31.734Z"
   },
   {
    "duration": 192,
    "start_time": "2022-09-07T15:36:03.223Z"
   },
   {
    "duration": 529,
    "start_time": "2022-09-07T15:42:13.204Z"
   },
   {
    "duration": 385,
    "start_time": "2022-09-07T15:42:55.426Z"
   },
   {
    "duration": 430,
    "start_time": "2022-09-07T15:47:43.555Z"
   },
   {
    "duration": 412,
    "start_time": "2022-09-07T15:47:57.140Z"
   },
   {
    "duration": 383,
    "start_time": "2022-09-07T15:48:14.614Z"
   },
   {
    "duration": 467,
    "start_time": "2022-09-07T15:48:33.258Z"
   },
   {
    "duration": 130,
    "start_time": "2022-09-07T15:50:28.207Z"
   },
   {
    "duration": 333,
    "start_time": "2022-09-07T15:55:52.520Z"
   },
   {
    "duration": 107,
    "start_time": "2022-09-07T15:56:05.427Z"
   },
   {
    "duration": 392,
    "start_time": "2022-09-07T15:56:36.599Z"
   },
   {
    "duration": 378,
    "start_time": "2022-09-07T15:57:01.404Z"
   },
   {
    "duration": 360,
    "start_time": "2022-09-07T15:57:20.947Z"
   },
   {
    "duration": 456,
    "start_time": "2022-09-07T15:57:30.713Z"
   },
   {
    "duration": 625,
    "start_time": "2022-09-07T16:02:03.757Z"
   },
   {
    "duration": 636,
    "start_time": "2022-09-07T16:08:41.481Z"
   },
   {
    "duration": 589,
    "start_time": "2022-09-07T16:08:58.787Z"
   },
   {
    "duration": 891,
    "start_time": "2022-09-07T16:09:31.582Z"
   },
   {
    "duration": 684,
    "start_time": "2022-09-07T16:09:48.601Z"
   },
   {
    "duration": 615,
    "start_time": "2022-09-07T16:09:59.358Z"
   },
   {
    "duration": 297,
    "start_time": "2022-09-07T16:10:24.462Z"
   },
   {
    "duration": 431,
    "start_time": "2022-09-07T16:11:53.838Z"
   },
   {
    "duration": 284,
    "start_time": "2022-09-07T16:15:38.202Z"
   },
   {
    "duration": 304,
    "start_time": "2022-09-07T16:15:49.287Z"
   },
   {
    "duration": 301,
    "start_time": "2022-09-07T16:16:08.884Z"
   },
   {
    "duration": 294,
    "start_time": "2022-09-07T16:16:28.811Z"
   },
   {
    "duration": 11,
    "start_time": "2022-09-07T16:21:10.836Z"
   },
   {
    "duration": 287,
    "start_time": "2022-09-07T16:21:49.534Z"
   },
   {
    "duration": 9,
    "start_time": "2022-09-07T16:22:09.291Z"
   },
   {
    "duration": 16,
    "start_time": "2022-09-07T16:33:35.207Z"
   },
   {
    "duration": 414,
    "start_time": "2022-09-07T16:33:50.089Z"
   },
   {
    "duration": 299,
    "start_time": "2022-09-07T16:38:38.536Z"
   },
   {
    "duration": 286,
    "start_time": "2022-09-07T16:38:54.733Z"
   },
   {
    "duration": 150,
    "start_time": "2022-09-07T16:44:12.120Z"
   },
   {
    "duration": 152,
    "start_time": "2022-09-07T16:44:42.470Z"
   },
   {
    "duration": 228,
    "start_time": "2022-09-07T16:50:16.531Z"
   },
   {
    "duration": 159,
    "start_time": "2022-09-07T16:53:08.752Z"
   },
   {
    "duration": 160,
    "start_time": "2022-09-07T16:57:36.896Z"
   },
   {
    "duration": 164,
    "start_time": "2022-09-07T16:57:54.272Z"
   },
   {
    "duration": 171,
    "start_time": "2022-09-07T16:58:02.487Z"
   },
   {
    "duration": 164,
    "start_time": "2022-09-07T16:59:54.217Z"
   },
   {
    "duration": 173,
    "start_time": "2022-09-07T17:01:07.007Z"
   },
   {
    "duration": 168,
    "start_time": "2022-09-07T17:02:02.259Z"
   },
   {
    "duration": 292,
    "start_time": "2022-09-07T17:02:24.177Z"
   },
   {
    "duration": 193,
    "start_time": "2022-09-07T17:08:15.385Z"
   },
   {
    "duration": 224,
    "start_time": "2022-09-07T17:08:41.270Z"
   },
   {
    "duration": 174,
    "start_time": "2022-09-07T17:09:07.625Z"
   },
   {
    "duration": 1431,
    "start_time": "2022-09-07T17:09:57.196Z"
   },
   {
    "duration": 721,
    "start_time": "2022-09-07T17:10:20.957Z"
   },
   {
    "duration": 330,
    "start_time": "2022-09-07T17:11:28.860Z"
   },
   {
    "duration": 511,
    "start_time": "2022-09-07T17:14:39.708Z"
   },
   {
    "duration": 573,
    "start_time": "2022-09-07T17:16:00.906Z"
   },
   {
    "duration": 1719,
    "start_time": "2022-09-07T17:20:13.886Z"
   },
   {
    "duration": 29,
    "start_time": "2022-09-07T17:21:18.053Z"
   },
   {
    "duration": 580,
    "start_time": "2022-09-07T17:21:29.718Z"
   },
   {
    "duration": 17,
    "start_time": "2022-09-07T17:22:30.847Z"
   },
   {
    "duration": 738,
    "start_time": "2022-09-07T17:22:37.668Z"
   },
   {
    "duration": 524,
    "start_time": "2022-09-07T18:10:50.238Z"
   },
   {
    "duration": 662,
    "start_time": "2022-09-07T18:12:36.749Z"
   },
   {
    "duration": 500,
    "start_time": "2022-09-07T18:12:57.145Z"
   },
   {
    "duration": 497,
    "start_time": "2022-09-07T18:13:13.635Z"
   },
   {
    "duration": 25,
    "start_time": "2022-09-07T18:19:37.081Z"
   },
   {
    "duration": 151,
    "start_time": "2022-09-07T18:23:56.067Z"
   },
   {
    "duration": 164,
    "start_time": "2022-09-07T18:24:11.222Z"
   },
   {
    "duration": 21,
    "start_time": "2022-09-07T18:24:50.436Z"
   },
   {
    "duration": 17,
    "start_time": "2022-09-07T18:27:46.613Z"
   },
   {
    "duration": 72,
    "start_time": "2022-09-07T18:27:52.406Z"
   },
   {
    "duration": 166,
    "start_time": "2022-09-07T18:28:05.934Z"
   },
   {
    "duration": 177,
    "start_time": "2022-09-07T18:29:18.099Z"
   },
   {
    "duration": 173,
    "start_time": "2022-09-07T18:30:01.384Z"
   },
   {
    "duration": 2983,
    "start_time": "2022-09-09T11:36:30.539Z"
   },
   {
    "duration": 152,
    "start_time": "2022-09-09T11:55:00.789Z"
   },
   {
    "duration": 3083,
    "start_time": "2022-09-10T12:01:20.456Z"
   },
   {
    "duration": 17,
    "start_time": "2022-09-10T12:01:46.206Z"
   },
   {
    "duration": 13,
    "start_time": "2022-09-10T12:01:51.914Z"
   },
   {
    "duration": 18,
    "start_time": "2022-09-10T12:02:02.240Z"
   },
   {
    "duration": 138,
    "start_time": "2022-09-10T12:02:07.781Z"
   },
   {
    "duration": 11,
    "start_time": "2022-09-10T12:02:20.379Z"
   },
   {
    "duration": 11,
    "start_time": "2022-09-10T12:02:51.090Z"
   },
   {
    "duration": 11,
    "start_time": "2022-09-10T12:03:32.808Z"
   },
   {
    "duration": 13,
    "start_time": "2022-09-10T12:03:51.000Z"
   },
   {
    "duration": 7,
    "start_time": "2022-09-10T12:04:09.795Z"
   },
   {
    "duration": 9,
    "start_time": "2022-09-10T12:04:11.695Z"
   },
   {
    "duration": 5,
    "start_time": "2022-09-10T12:05:08.641Z"
   },
   {
    "duration": 12,
    "start_time": "2022-09-10T12:05:10.319Z"
   },
   {
    "duration": 4,
    "start_time": "2022-09-10T12:05:24.343Z"
   },
   {
    "duration": 6,
    "start_time": "2022-09-10T12:07:26.214Z"
   },
   {
    "duration": 8,
    "start_time": "2022-09-10T12:08:20.772Z"
   },
   {
    "duration": 6,
    "start_time": "2022-09-10T12:08:25.159Z"
   },
   {
    "duration": 10,
    "start_time": "2022-09-10T12:08:27.513Z"
   },
   {
    "duration": 276,
    "start_time": "2022-09-10T12:23:13.227Z"
   },
   {
    "duration": 195,
    "start_time": "2022-09-10T12:23:23.945Z"
   },
   {
    "duration": 183,
    "start_time": "2022-09-10T12:23:52.760Z"
   },
   {
    "duration": 8,
    "start_time": "2022-09-10T12:23:55.954Z"
   },
   {
    "duration": 2222,
    "start_time": "2022-09-10T12:24:30.787Z"
   },
   {
    "duration": 16,
    "start_time": "2022-09-10T12:24:39.697Z"
   },
   {
    "duration": 16,
    "start_time": "2022-09-10T12:24:50.457Z"
   },
   {
    "duration": 10,
    "start_time": "2022-09-10T12:24:53.155Z"
   },
   {
    "duration": 16,
    "start_time": "2022-09-10T12:25:05.452Z"
   },
   {
    "duration": 152,
    "start_time": "2022-09-10T12:25:13.670Z"
   },
   {
    "duration": 10,
    "start_time": "2022-09-10T12:25:20.726Z"
   },
   {
    "duration": 9,
    "start_time": "2022-09-10T12:25:28.092Z"
   },
   {
    "duration": 18,
    "start_time": "2022-09-10T12:25:33.159Z"
   },
   {
    "duration": 210,
    "start_time": "2022-09-10T12:25:34.797Z"
   },
   {
    "duration": 8,
    "start_time": "2022-09-10T12:25:37.217Z"
   },
   {
    "duration": 15,
    "start_time": "2022-09-10T12:26:28.115Z"
   },
   {
    "duration": 285,
    "start_time": "2022-09-10T12:26:30.246Z"
   },
   {
    "duration": 5,
    "start_time": "2022-09-10T12:26:32.114Z"
   },
   {
    "duration": 183,
    "start_time": "2022-09-10T12:26:46.796Z"
   },
   {
    "duration": 176,
    "start_time": "2022-09-10T12:29:35.599Z"
   },
   {
    "duration": 275,
    "start_time": "2022-09-10T12:30:53.436Z"
   },
   {
    "duration": 208,
    "start_time": "2022-09-10T12:32:36.392Z"
   },
   {
    "duration": 243,
    "start_time": "2022-09-10T12:33:24.970Z"
   },
   {
    "duration": 201,
    "start_time": "2022-09-10T12:33:36.857Z"
   },
   {
    "duration": 164,
    "start_time": "2022-09-10T12:37:21.527Z"
   },
   {
    "duration": 160,
    "start_time": "2022-09-10T12:37:27.464Z"
   },
   {
    "duration": 147,
    "start_time": "2022-09-10T12:37:35.689Z"
   },
   {
    "duration": 144,
    "start_time": "2022-09-10T12:37:57.005Z"
   },
   {
    "duration": 161,
    "start_time": "2022-09-10T12:38:05.443Z"
   },
   {
    "duration": 2139,
    "start_time": "2022-09-10T12:38:23.679Z"
   },
   {
    "duration": 15,
    "start_time": "2022-09-10T12:38:33.201Z"
   },
   {
    "duration": 10,
    "start_time": "2022-09-10T12:38:36.079Z"
   },
   {
    "duration": 14,
    "start_time": "2022-09-10T12:38:39.390Z"
   },
   {
    "duration": 137,
    "start_time": "2022-09-10T12:38:42.849Z"
   },
   {
    "duration": 7,
    "start_time": "2022-09-10T12:38:45.784Z"
   },
   {
    "duration": 7,
    "start_time": "2022-09-10T12:38:52.736Z"
   },
   {
    "duration": 11,
    "start_time": "2022-09-10T12:38:56.737Z"
   },
   {
    "duration": 196,
    "start_time": "2022-09-10T12:38:58.250Z"
   },
   {
    "duration": 7,
    "start_time": "2022-09-10T12:39:00.599Z"
   },
   {
    "duration": 14,
    "start_time": "2022-09-10T12:39:08.183Z"
   },
   {
    "duration": 346,
    "start_time": "2022-09-10T12:39:09.856Z"
   },
   {
    "duration": 4,
    "start_time": "2022-09-10T12:39:11.411Z"
   },
   {
    "duration": 266,
    "start_time": "2022-09-10T12:39:14.681Z"
   },
   {
    "duration": 177,
    "start_time": "2022-09-10T12:41:12.025Z"
   },
   {
    "duration": 185,
    "start_time": "2022-09-10T12:41:28.733Z"
   },
   {
    "duration": 156,
    "start_time": "2022-09-10T12:41:35.800Z"
   },
   {
    "duration": 156,
    "start_time": "2022-09-10T12:41:46.967Z"
   },
   {
    "duration": 146,
    "start_time": "2022-09-10T12:41:52.921Z"
   },
   {
    "duration": 164,
    "start_time": "2022-09-10T12:42:03.424Z"
   },
   {
    "duration": 157,
    "start_time": "2022-09-10T12:42:10.855Z"
   },
   {
    "duration": 151,
    "start_time": "2022-09-10T12:44:08.589Z"
   },
   {
    "duration": 164,
    "start_time": "2022-09-10T12:44:17.487Z"
   },
   {
    "duration": 153,
    "start_time": "2022-09-10T12:44:28.014Z"
   },
   {
    "duration": 325,
    "start_time": "2022-09-10T12:44:56.509Z"
   },
   {
    "duration": 260,
    "start_time": "2022-09-10T12:45:06.528Z"
   },
   {
    "duration": 212,
    "start_time": "2022-09-10T12:45:17.725Z"
   },
   {
    "duration": 303,
    "start_time": "2022-09-10T12:48:19.733Z"
   },
   {
    "duration": 220,
    "start_time": "2022-09-10T12:51:34.730Z"
   },
   {
    "duration": 212,
    "start_time": "2022-09-10T12:54:42.259Z"
   },
   {
    "duration": 214,
    "start_time": "2022-09-10T13:05:44.309Z"
   },
   {
    "duration": 214,
    "start_time": "2022-09-10T13:11:42.141Z"
   },
   {
    "duration": 325,
    "start_time": "2022-09-10T13:16:41.979Z"
   },
   {
    "duration": 409,
    "start_time": "2022-09-10T13:26:49.940Z"
   },
   {
    "duration": 69,
    "start_time": "2022-09-10T13:29:38.890Z"
   },
   {
    "duration": 301,
    "start_time": "2022-09-10T13:29:45.913Z"
   },
   {
    "duration": 477,
    "start_time": "2022-09-10T13:32:58.913Z"
   },
   {
    "duration": 304,
    "start_time": "2022-09-10T13:33:55.930Z"
   },
   {
    "duration": 304,
    "start_time": "2022-09-10T13:36:39.304Z"
   },
   {
    "duration": 289,
    "start_time": "2022-09-10T13:48:07.593Z"
   },
   {
    "duration": 654,
    "start_time": "2022-09-10T13:54:23.490Z"
   },
   {
    "duration": 595,
    "start_time": "2022-09-10T13:54:45.989Z"
   },
   {
    "duration": 477,
    "start_time": "2022-09-10T13:55:08.909Z"
   },
   {
    "duration": 562,
    "start_time": "2022-09-10T13:55:58.941Z"
   },
   {
    "duration": 29,
    "start_time": "2022-09-10T14:02:57.882Z"
   },
   {
    "duration": 28,
    "start_time": "2022-09-10T14:03:53.257Z"
   },
   {
    "duration": 34,
    "start_time": "2022-09-10T14:04:05.035Z"
   },
   {
    "duration": 27,
    "start_time": "2022-09-10T14:07:50.872Z"
   },
   {
    "duration": 25,
    "start_time": "2022-09-10T14:08:01.069Z"
   },
   {
    "duration": 24,
    "start_time": "2022-09-10T14:08:14.784Z"
   },
   {
    "duration": 26,
    "start_time": "2022-09-10T14:09:08.493Z"
   },
   {
    "duration": 27,
    "start_time": "2022-09-10T14:09:51.183Z"
   },
   {
    "duration": 2208,
    "start_time": "2022-09-10T14:10:01.638Z"
   },
   {
    "duration": 15,
    "start_time": "2022-09-10T14:10:30.437Z"
   },
   {
    "duration": 9,
    "start_time": "2022-09-10T14:10:31.908Z"
   },
   {
    "duration": 18,
    "start_time": "2022-09-10T14:10:36.986Z"
   },
   {
    "duration": 134,
    "start_time": "2022-09-10T14:10:43.367Z"
   },
   {
    "duration": 13,
    "start_time": "2022-09-10T14:10:46.758Z"
   },
   {
    "duration": 8,
    "start_time": "2022-09-10T14:10:58.325Z"
   },
   {
    "duration": 21,
    "start_time": "2022-09-10T14:11:01.139Z"
   },
   {
    "duration": 196,
    "start_time": "2022-09-10T14:11:02.272Z"
   },
   {
    "duration": 15,
    "start_time": "2022-09-10T14:11:08.791Z"
   },
   {
    "duration": 283,
    "start_time": "2022-09-10T14:11:11.865Z"
   },
   {
    "duration": 5,
    "start_time": "2022-09-10T14:11:12.595Z"
   },
   {
    "duration": 169,
    "start_time": "2022-09-10T14:11:17.553Z"
   },
   {
    "duration": 168,
    "start_time": "2022-09-10T14:11:24.782Z"
   },
   {
    "duration": 202,
    "start_time": "2022-09-10T14:11:30.642Z"
   },
   {
    "duration": 157,
    "start_time": "2022-09-10T14:11:39.663Z"
   },
   {
    "duration": 246,
    "start_time": "2022-09-10T14:11:45.149Z"
   },
   {
    "duration": 881,
    "start_time": "2022-09-10T14:12:26.774Z"
   },
   {
    "duration": 244,
    "start_time": "2022-09-10T14:12:31.461Z"
   },
   {
    "duration": 220,
    "start_time": "2022-09-10T14:12:41.806Z"
   },
   {
    "duration": 228,
    "start_time": "2022-09-10T14:12:49.586Z"
   },
   {
    "duration": 286,
    "start_time": "2022-09-10T14:13:00.637Z"
   },
   {
    "duration": 345,
    "start_time": "2022-09-10T14:13:05.065Z"
   },
   {
    "duration": 11,
    "start_time": "2022-09-10T14:13:11.943Z"
   },
   {
    "duration": 330,
    "start_time": "2022-09-10T14:13:14.908Z"
   },
   {
    "duration": 305,
    "start_time": "2022-09-10T14:13:20.640Z"
   },
   {
    "duration": 178,
    "start_time": "2022-09-10T14:13:29.993Z"
   },
   {
    "duration": 172,
    "start_time": "2022-09-10T14:13:33.536Z"
   },
   {
    "duration": 178,
    "start_time": "2022-09-10T14:13:36.716Z"
   },
   {
    "duration": 152,
    "start_time": "2022-09-10T14:13:39.794Z"
   },
   {
    "duration": 762,
    "start_time": "2022-09-10T14:13:44.468Z"
   },
   {
    "duration": 487,
    "start_time": "2022-09-10T14:13:52.399Z"
   },
   {
    "duration": 576,
    "start_time": "2022-09-10T14:14:49.264Z"
   },
   {
    "duration": 544,
    "start_time": "2022-09-10T14:15:03.098Z"
   },
   {
    "duration": 527,
    "start_time": "2022-09-10T14:15:19.770Z"
   },
   {
    "duration": 383,
    "start_time": "2022-09-10T14:15:43.666Z"
   },
   {
    "duration": 1749,
    "start_time": "2022-09-10T14:17:06.797Z"
   },
   {
    "duration": 447,
    "start_time": "2022-09-10T14:17:32.646Z"
   },
   {
    "duration": 507,
    "start_time": "2022-09-10T14:17:50.421Z"
   },
   {
    "duration": 501,
    "start_time": "2022-09-10T14:18:04.754Z"
   },
   {
    "duration": 517,
    "start_time": "2022-09-10T14:18:13.461Z"
   },
   {
    "duration": 601,
    "start_time": "2022-09-10T14:18:59.706Z"
   },
   {
    "duration": 512,
    "start_time": "2022-09-10T14:19:11.739Z"
   },
   {
    "duration": 497,
    "start_time": "2022-09-10T14:19:25.498Z"
   },
   {
    "duration": 37,
    "start_time": "2022-09-10T14:19:54.501Z"
   },
   {
    "duration": 25,
    "start_time": "2022-09-10T14:19:58.566Z"
   },
   {
    "duration": 3153,
    "start_time": "2022-09-11T14:23:16.967Z"
   },
   {
    "duration": 16,
    "start_time": "2022-09-11T14:23:20.122Z"
   },
   {
    "duration": 8,
    "start_time": "2022-09-11T14:23:20.139Z"
   },
   {
    "duration": 16,
    "start_time": "2022-09-11T14:23:20.149Z"
   },
   {
    "duration": 131,
    "start_time": "2022-09-11T14:23:20.166Z"
   },
   {
    "duration": 14,
    "start_time": "2022-09-11T14:23:20.298Z"
   },
   {
    "duration": 6,
    "start_time": "2022-09-11T14:23:20.313Z"
   },
   {
    "duration": 13,
    "start_time": "2022-09-11T14:23:20.320Z"
   },
   {
    "duration": 207,
    "start_time": "2022-09-11T14:23:20.334Z"
   },
   {
    "duration": 7,
    "start_time": "2022-09-11T14:23:20.543Z"
   },
   {
    "duration": 16,
    "start_time": "2022-09-11T14:23:20.552Z"
   },
   {
    "duration": 276,
    "start_time": "2022-09-11T14:23:20.569Z"
   },
   {
    "duration": 4,
    "start_time": "2022-09-11T14:23:20.847Z"
   },
   {
    "duration": 151,
    "start_time": "2022-09-11T14:23:20.852Z"
   },
   {
    "duration": 221,
    "start_time": "2022-09-11T14:23:21.008Z"
   },
   {
    "duration": 181,
    "start_time": "2022-09-11T14:23:21.231Z"
   },
   {
    "duration": 140,
    "start_time": "2022-09-11T14:23:21.414Z"
   },
   {
    "duration": 200,
    "start_time": "2022-09-11T14:23:21.556Z"
   },
   {
    "duration": 789,
    "start_time": "2022-09-11T14:23:21.758Z"
   },
   {
    "duration": 201,
    "start_time": "2022-09-11T14:23:22.548Z"
   },
   {
    "duration": 190,
    "start_time": "2022-09-11T14:23:22.751Z"
   },
   {
    "duration": 202,
    "start_time": "2022-09-11T14:23:22.943Z"
   },
   {
    "duration": 202,
    "start_time": "2022-09-11T14:23:23.146Z"
   },
   {
    "duration": 320,
    "start_time": "2022-09-11T14:23:23.350Z"
   },
   {
    "duration": 8,
    "start_time": "2022-09-11T14:23:23.671Z"
   },
   {
    "duration": 274,
    "start_time": "2022-09-11T14:23:23.680Z"
   },
   {
    "duration": 273,
    "start_time": "2022-09-11T14:23:23.956Z"
   },
   {
    "duration": 230,
    "start_time": "2022-09-11T14:23:24.232Z"
   },
   {
    "duration": 208,
    "start_time": "2022-09-11T14:23:24.464Z"
   },
   {
    "duration": 155,
    "start_time": "2022-09-11T14:23:24.674Z"
   },
   {
    "duration": 144,
    "start_time": "2022-09-11T14:23:24.830Z"
   },
   {
    "duration": 628,
    "start_time": "2022-09-11T14:23:24.976Z"
   },
   {
    "duration": 0,
    "start_time": "2022-09-11T14:23:25.609Z"
   },
   {
    "duration": 0,
    "start_time": "2022-09-11T14:23:25.611Z"
   },
   {
    "duration": 0,
    "start_time": "2022-09-11T14:23:25.612Z"
   },
   {
    "duration": 459,
    "start_time": "2022-09-11T14:26:10.350Z"
   },
   {
    "duration": 24,
    "start_time": "2022-09-11T14:26:11.764Z"
   },
   {
    "duration": 24,
    "start_time": "2022-09-11T14:26:12.306Z"
   },
   {
    "duration": 31,
    "start_time": "2022-09-11T14:28:04.627Z"
   },
   {
    "duration": 3367,
    "start_time": "2022-11-18T14:33:12.123Z"
   },
   {
    "duration": 19,
    "start_time": "2022-11-18T14:33:18.997Z"
   },
   {
    "duration": 10,
    "start_time": "2022-11-18T14:33:21.391Z"
   },
   {
    "duration": 21,
    "start_time": "2022-11-18T14:33:24.153Z"
   },
   {
    "duration": 138,
    "start_time": "2022-11-18T14:33:26.630Z"
   },
   {
    "duration": 10,
    "start_time": "2022-11-18T14:33:28.399Z"
   },
   {
    "duration": 7,
    "start_time": "2022-11-18T14:33:31.107Z"
   },
   {
    "duration": 11,
    "start_time": "2022-11-18T14:33:34.880Z"
   },
   {
    "duration": 186,
    "start_time": "2022-11-18T14:33:35.896Z"
   },
   {
    "duration": 9,
    "start_time": "2022-11-18T14:33:37.184Z"
   },
   {
    "duration": 15,
    "start_time": "2022-11-18T14:33:40.551Z"
   },
   {
    "duration": 303,
    "start_time": "2022-11-18T14:33:41.190Z"
   },
   {
    "duration": 5,
    "start_time": "2022-11-18T14:33:43.096Z"
   },
   {
    "duration": 182,
    "start_time": "2022-11-18T14:33:47.253Z"
   },
   {
    "duration": 274,
    "start_time": "2022-11-18T14:33:51.058Z"
   },
   {
    "duration": 203,
    "start_time": "2022-11-18T14:33:54.868Z"
   },
   {
    "duration": 156,
    "start_time": "2022-11-18T14:33:58.174Z"
   },
   {
    "duration": 247,
    "start_time": "2022-11-18T14:34:00.846Z"
   },
   {
    "duration": 920,
    "start_time": "2022-11-18T14:34:03.596Z"
   },
   {
    "duration": 249,
    "start_time": "2022-11-18T14:34:06.853Z"
   },
   {
    "duration": 213,
    "start_time": "2022-11-18T14:34:09.520Z"
   },
   {
    "duration": 224,
    "start_time": "2022-11-18T14:34:13.065Z"
   },
   {
    "duration": 220,
    "start_time": "2022-11-18T14:34:16.205Z"
   },
   {
    "duration": 362,
    "start_time": "2022-11-18T14:34:19.284Z"
   },
   {
    "duration": 10,
    "start_time": "2022-11-18T14:34:23.604Z"
   },
   {
    "duration": 316,
    "start_time": "2022-11-18T14:34:25.334Z"
   },
   {
    "duration": 299,
    "start_time": "2022-11-18T14:34:29.505Z"
   },
   {
    "duration": 255,
    "start_time": "2022-11-18T14:34:32.959Z"
   },
   {
    "duration": 186,
    "start_time": "2022-11-18T14:34:36.754Z"
   },
   {
    "duration": 155,
    "start_time": "2022-11-18T14:34:39.738Z"
   },
   {
    "duration": 155,
    "start_time": "2022-11-18T14:34:42.493Z"
   },
   {
    "duration": 593,
    "start_time": "2022-11-18T14:34:45.122Z"
   },
   {
    "duration": 510,
    "start_time": "2022-11-18T14:34:48.433Z"
   },
   {
    "duration": 32,
    "start_time": "2022-11-18T14:34:53.299Z"
   },
   {
    "duration": 27,
    "start_time": "2022-11-18T14:34:56.170Z"
   },
   {
    "duration": 25,
    "start_time": "2022-11-18T14:34:59.599Z"
   },
   {
    "duration": 2704,
    "start_time": "2023-10-14T10:58:14.997Z"
   },
   {
    "duration": 14,
    "start_time": "2023-10-14T10:58:17.703Z"
   },
   {
    "duration": 8,
    "start_time": "2023-10-14T10:58:17.718Z"
   },
   {
    "duration": 15,
    "start_time": "2023-10-14T10:58:17.728Z"
   },
   {
    "duration": 113,
    "start_time": "2023-10-14T10:58:17.744Z"
   },
   {
    "duration": 7,
    "start_time": "2023-10-14T10:58:17.858Z"
   },
   {
    "duration": 23,
    "start_time": "2023-10-14T10:58:17.866Z"
   },
   {
    "duration": 14,
    "start_time": "2023-10-14T10:58:17.891Z"
   },
   {
    "duration": 191,
    "start_time": "2023-10-14T10:58:17.907Z"
   },
   {
    "duration": 6,
    "start_time": "2023-10-14T10:58:18.100Z"
   },
   {
    "duration": 12,
    "start_time": "2023-10-14T10:58:18.108Z"
   },
   {
    "duration": 268,
    "start_time": "2023-10-14T10:58:18.121Z"
   },
   {
    "duration": 3,
    "start_time": "2023-10-14T10:58:18.390Z"
   },
   {
    "duration": 139,
    "start_time": "2023-10-14T10:58:18.394Z"
   },
   {
    "duration": 197,
    "start_time": "2023-10-14T10:58:18.534Z"
   },
   {
    "duration": 159,
    "start_time": "2023-10-14T10:58:18.733Z"
   },
   {
    "duration": 130,
    "start_time": "2023-10-14T10:58:18.893Z"
   },
   {
    "duration": 182,
    "start_time": "2023-10-14T10:58:19.025Z"
   },
   {
    "duration": 778,
    "start_time": "2023-10-14T10:58:19.209Z"
   },
   {
    "duration": 199,
    "start_time": "2023-10-14T10:58:19.988Z"
   },
   {
    "duration": 189,
    "start_time": "2023-10-14T10:58:20.189Z"
   },
   {
    "duration": 185,
    "start_time": "2023-10-14T10:58:20.379Z"
   },
   {
    "duration": 187,
    "start_time": "2023-10-14T10:58:20.566Z"
   },
   {
    "duration": 317,
    "start_time": "2023-10-14T10:58:20.754Z"
   },
   {
    "duration": 7,
    "start_time": "2023-10-14T10:58:21.072Z"
   },
   {
    "duration": 271,
    "start_time": "2023-10-14T10:58:21.081Z"
   },
   {
    "duration": 247,
    "start_time": "2023-10-14T10:58:21.353Z"
   },
   {
    "duration": 195,
    "start_time": "2023-10-14T10:58:21.603Z"
   },
   {
    "duration": 146,
    "start_time": "2023-10-14T10:58:21.800Z"
   },
   {
    "duration": 137,
    "start_time": "2023-10-14T10:58:21.948Z"
   },
   {
    "duration": 129,
    "start_time": "2023-10-14T10:58:22.086Z"
   },
   {
    "duration": 711,
    "start_time": "2023-10-14T10:58:22.217Z"
   },
   {
    "duration": 0,
    "start_time": "2023-10-14T10:58:22.929Z"
   },
   {
    "duration": 0,
    "start_time": "2023-10-14T10:58:22.931Z"
   },
   {
    "duration": 0,
    "start_time": "2023-10-14T10:58:22.932Z"
   },
   {
    "duration": 249,
    "start_time": "2023-10-14T11:02:09.363Z"
   },
   {
    "duration": 1731,
    "start_time": "2023-10-14T11:02:09.614Z"
   },
   {
    "duration": 14,
    "start_time": "2023-10-14T11:02:11.347Z"
   },
   {
    "duration": 7,
    "start_time": "2023-10-14T11:02:11.362Z"
   },
   {
    "duration": 14,
    "start_time": "2023-10-14T11:02:11.370Z"
   },
   {
    "duration": 133,
    "start_time": "2023-10-14T11:02:11.385Z"
   },
   {
    "duration": 7,
    "start_time": "2023-10-14T11:02:11.519Z"
   },
   {
    "duration": 15,
    "start_time": "2023-10-14T11:02:11.528Z"
   },
   {
    "duration": 13,
    "start_time": "2023-10-14T11:02:11.545Z"
   },
   {
    "duration": 213,
    "start_time": "2023-10-14T11:02:11.561Z"
   },
   {
    "duration": 7,
    "start_time": "2023-10-14T11:02:11.775Z"
   },
   {
    "duration": 17,
    "start_time": "2023-10-14T11:02:11.783Z"
   },
   {
    "duration": 274,
    "start_time": "2023-10-14T11:02:11.801Z"
   },
   {
    "duration": 4,
    "start_time": "2023-10-14T11:02:12.076Z"
   },
   {
    "duration": 147,
    "start_time": "2023-10-14T11:02:12.082Z"
   },
   {
    "duration": 236,
    "start_time": "2023-10-14T11:02:12.231Z"
   },
   {
    "duration": 197,
    "start_time": "2023-10-14T11:02:12.469Z"
   },
   {
    "duration": 133,
    "start_time": "2023-10-14T11:02:12.668Z"
   },
   {
    "duration": 177,
    "start_time": "2023-10-14T11:02:12.803Z"
   },
   {
    "duration": 271,
    "start_time": "2023-10-14T11:02:12.981Z"
   },
   {
    "duration": 189,
    "start_time": "2023-10-14T11:02:13.253Z"
   },
   {
    "duration": 184,
    "start_time": "2023-10-14T11:02:13.443Z"
   },
   {
    "duration": 179,
    "start_time": "2023-10-14T11:02:13.629Z"
   },
   {
    "duration": 188,
    "start_time": "2023-10-14T11:02:13.809Z"
   },
   {
    "duration": 298,
    "start_time": "2023-10-14T11:02:13.998Z"
   },
   {
    "duration": 6,
    "start_time": "2023-10-14T11:02:14.298Z"
   },
   {
    "duration": 318,
    "start_time": "2023-10-14T11:02:14.306Z"
   },
   {
    "duration": 243,
    "start_time": "2023-10-14T11:02:14.626Z"
   },
   {
    "duration": 133,
    "start_time": "2023-10-14T11:02:14.870Z"
   },
   {
    "duration": 148,
    "start_time": "2023-10-14T11:02:15.005Z"
   },
   {
    "duration": 131,
    "start_time": "2023-10-14T11:02:15.154Z"
   },
   {
    "duration": 137,
    "start_time": "2023-10-14T11:02:15.287Z"
   },
   {
    "duration": 18,
    "start_time": "2023-10-14T11:02:15.426Z"
   },
   {
    "duration": 429,
    "start_time": "2023-10-14T11:02:15.446Z"
   },
   {
    "duration": 24,
    "start_time": "2023-10-14T11:02:15.877Z"
   },
   {
    "duration": 43,
    "start_time": "2023-10-14T11:02:15.903Z"
   },
   {
    "duration": 8,
    "start_time": "2023-10-14T11:02:56.368Z"
   },
   {
    "duration": 10,
    "start_time": "2023-10-14T11:03:32.242Z"
   },
   {
    "duration": 6,
    "start_time": "2023-10-14T11:03:37.177Z"
   },
   {
    "duration": 488,
    "start_time": "2023-10-14T11:03:37.898Z"
   },
   {
    "duration": 24,
    "start_time": "2023-10-14T11:03:43.861Z"
   },
   {
    "duration": 22,
    "start_time": "2023-10-14T11:03:45.386Z"
   },
   {
    "duration": 100,
    "start_time": "2023-10-14T11:05:11.813Z"
   },
   {
    "duration": 98,
    "start_time": "2023-10-14T11:06:23.449Z"
   },
   {
    "duration": 12,
    "start_time": "2023-10-14T11:07:16.683Z"
   }
  ],
  "kernelspec": {
   "display_name": "Python 3 (ipykernel)",
   "language": "python",
   "name": "python3"
  },
  "language_info": {
   "codemirror_mode": {
    "name": "ipython",
    "version": 3
   },
   "file_extension": ".py",
   "mimetype": "text/x-python",
   "name": "python",
   "nbconvert_exporter": "python",
   "pygments_lexer": "ipython3",
   "version": "3.9.5"
  },
  "toc": {
   "base_numbering": 1,
   "nav_menu": {},
   "number_sections": true,
   "sideBar": true,
   "skip_h1_title": true,
   "title_cell": "Table of Contents",
   "title_sidebar": "Contents",
   "toc_cell": false,
   "toc_position": {},
   "toc_section_display": true,
   "toc_window_display": false
  }
 },
 "nbformat": 4,
 "nbformat_minor": 2
}
